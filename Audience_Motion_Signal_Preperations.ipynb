{
 "cells": [
  {
   "cell_type": "markdown",
   "metadata": {},
   "source": [
    "# MusicLab Copenhagen Audience motion measurements, preparations\n",
    "\n",
    "After combining MusicLab app accelerometer measurements:\n",
    "\n",
    "and aligning measurements with the imbedded synchronisation taps in mobile phone measurements (MusicLab) and AX3 sensors: \n",
    "\n",
    "This notebook characterises the initial measurements patterns of gaps, the scaling of the AX3 sensor values, and the downsampling of all measurements into an aligned set of instantaneous jerk measurements. \n"
   ]
  },
  {
   "cell_type": "code",
   "execution_count": 1,
   "metadata": {},
   "outputs": [],
   "source": [
    "import sys\n",
    "import os\n",
    "import time\n",
    "\n",
    "import datetime as dt\n",
    "import math\n",
    "import numpy as np \n",
    "import scipy as sp\n",
    "import pandas as pd\n",
    "import matplotlib.pyplot as plt\n",
    "import seaborn as sns\n",
    "from scipy.signal import butter,filtfilt\n",
    "from scipy import interpolate\n",
    "from scipy.interpolate import interp1d\n",
    "import matplotlib.cm as cm\n",
    "import pingouin as pg"
   ]
  },
  {
   "cell_type": "code",
   "execution_count": 2,
   "metadata": {},
   "outputs": [],
   "source": [
    "# import functions from definition files in the same folder as this jupiter notebook\n",
    "%load_ext autoreload\n",
    "%autoreload 1\n",
    "%aimport am\n",
    "%aimport frf"
   ]
  },
  {
   "cell_type": "code",
   "execution_count": 3,
   "metadata": {},
   "outputs": [],
   "source": [
    "%reload_ext autoreload"
   ]
  },
  {
   "cell_type": "markdown",
   "metadata": {},
   "source": [
    "# Data preparation \n",
    "Aligning cellphone accelerometer measurements collected via MusicLab App and AX3 measurements from audience participant was performed in a different repository. This process depended on the detection of taps by participants on their devices to the synchronisation cues played before each half of the concert. See Notebook below for a summary of that work to align accelerometer measurements: \n",
    "https://github.com/finn42/MusicLabCopenhegan_MotionAlignment/blob/main/Alignment_Describe.ipynb\n",
    "\n",
    "These aligned accelerometer measurments were released publically as part of the MusicLab Copenhagen repository (https://osf.io/v9wa4/). This analysis uses the fullowing published datasets from this study:\n",
    "\n",
    "  1. Aligned accelerometer measurements from each audience member: https://osf.io/9qeg6/\n",
    "  2. Participants' survey responses: https://osf.io/89s5w/ \n",
    "  3. Anonimised seating information for in hall participants: https://osf.io/8t4rz/ ./Participants/Near_Participants_Hall.csv (https://osf.io/c5zgf)\n",
    "  4. Concert event timing information:  https://osf.io/8t4rz/ ./Timing/Events_Main.csv"
   ]
  },
  {
   "cell_type": "code",
   "execution_count": 4,
   "metadata": {},
   "outputs": [],
   "source": [
    "general_loc = '../'\n",
    "\n",
    "public_mlmotion = general_loc + 'Public_data/Motion_ML/'\n",
    "public_ax3 = general_loc +  'Public_data/Motion_AX3/'\n",
    "public_Part = general_loc + 'Public_data/Participants/'\n",
    "public_time = general_loc + 'Public_data/Timing/'"
   ]
  },
  {
   "cell_type": "code",
   "execution_count": 5,
   "metadata": {},
   "outputs": [],
   "source": [
    "internal_Part = general_loc + 'Participants_internal/'"
   ]
  },
  {
   "cell_type": "code",
   "execution_count": 6,
   "metadata": {},
   "outputs": [],
   "source": [
    "# set the sampling period for the concert in UTC \n",
    "Start_time = pd.to_datetime('2021-10-26 17:30:00+0000').replace(tzinfo=None)\n",
    "Synch_time = pd.to_datetime('2021-10-26 17:48:06+0000').replace(tzinfo=None)\n",
    "Mid_time = pd.to_datetime('2021-10-26 19:00:00+0000').replace(tzinfo=None)\n",
    "End_time = pd.to_datetime('2021-10-26 20:30:00+0000').replace(tzinfo=None)\n"
   ]
  },
  {
   "cell_type": "code",
   "execution_count": 7,
   "metadata": {},
   "outputs": [],
   "source": [
    "concert_times = pd.read_csv(public_time +'Events_Main_extra_Tags.csv',sep=\",\") #SV alignment for beeps\n",
    "concert_times['Datetime']=(pd.to_datetime(concert_times['Datetime'])) # concert time stamps, confirm format\n",
    "\n",
    "concert_times['sequence'] = concert_times.index\n",
    "Main_concert_times = concert_times.set_index('Datetime')"
   ]
  },
  {
   "cell_type": "code",
   "execution_count": 14,
   "metadata": {},
   "outputs": [
    {
     "name": "stdout",
     "output_type": "stream",
     "text": [
      "115\n"
     ]
    },
    {
     "data": {
      "text/html": [
       "<div>\n",
       "<style scoped>\n",
       "    .dataframe tbody tr th:only-of-type {\n",
       "        vertical-align: middle;\n",
       "    }\n",
       "\n",
       "    .dataframe tbody tr th {\n",
       "        vertical-align: top;\n",
       "    }\n",
       "\n",
       "    .dataframe thead th {\n",
       "        text-align: right;\n",
       "    }\n",
       "</style>\n",
       "<table border=\"1\" class=\"dataframe\">\n",
       "  <thead>\n",
       "    <tr style=\"text-align: right;\">\n",
       "      <th></th>\n",
       "      <th>Participant_Code</th>\n",
       "      <th>Attendance</th>\n",
       "      <th>Motion_Quality</th>\n",
       "      <th>Seat_Zone</th>\n",
       "      <th>Watch_Alone</th>\n",
       "    </tr>\n",
       "  </thead>\n",
       "  <tbody>\n",
       "    <tr>\n",
       "      <th>0</th>\n",
       "      <td>ADQ001</td>\n",
       "      <td>A</td>\n",
       "      <td>Q</td>\n",
       "      <td>6.0</td>\n",
       "      <td>0.0</td>\n",
       "    </tr>\n",
       "    <tr>\n",
       "      <th>1</th>\n",
       "      <td>ADQ002</td>\n",
       "      <td>A</td>\n",
       "      <td>Q</td>\n",
       "      <td>3.0</td>\n",
       "      <td>0.0</td>\n",
       "    </tr>\n",
       "    <tr>\n",
       "      <th>2</th>\n",
       "      <td>ADQ003</td>\n",
       "      <td>A</td>\n",
       "      <td>Q</td>\n",
       "      <td>2.0</td>\n",
       "      <td>0.0</td>\n",
       "    </tr>\n",
       "    <tr>\n",
       "      <th>3</th>\n",
       "      <td>ADQ004</td>\n",
       "      <td>A</td>\n",
       "      <td>Q</td>\n",
       "      <td>4.0</td>\n",
       "      <td>1.0</td>\n",
       "    </tr>\n",
       "    <tr>\n",
       "      <th>4</th>\n",
       "      <td>ADQ005</td>\n",
       "      <td>A</td>\n",
       "      <td>Q</td>\n",
       "      <td>4.0</td>\n",
       "      <td>0.0</td>\n",
       "    </tr>\n",
       "  </tbody>\n",
       "</table>\n",
       "</div>"
      ],
      "text/plain": [
       "  Participant_Code Attendance Motion_Quality  Seat_Zone  Watch_Alone\n",
       "0           ADQ001          A              Q        6.0          0.0\n",
       "1           ADQ002          A              Q        3.0          0.0\n",
       "2           ADQ003          A              Q        2.0          0.0\n",
       "3           ADQ004          A              Q        4.0          1.0\n",
       "4           ADQ005          A              Q        4.0          0.0"
      ]
     },
     "execution_count": 14,
     "metadata": {},
     "output_type": "execute_result"
    }
   ],
   "source": [
    "partDets = pd.read_csv(public_Part + 'Audience_Mapping_Public.csv')#,index_col = 0,header_col = 0)\n",
    "part_det_columns = ['Participant_Code','Attendance', 'Motion_Quality', 'Seat_Zone','Watch_Alone']\n",
    "# need only in person participants with aligned motion traces\n",
    "partDets = partDets.loc[partDets['Attendance'].isin(['A','B']),part_det_columns] # A in person hall participants, B remote participants \n",
    "alignedParts = partDets.loc[partDets['Motion_Quality'].isin(['Q','R']),:].reset_index(drop = True) # with aligned motion measurements\n",
    "aligned_Part_Codes = list(alignedParts.Participant_Code.values)\n",
    "print(len(aligned_Part_Codes))\n",
    "alignedParts.iloc[:5,:]"
   ]
  },
  {
   "cell_type": "markdown",
   "metadata": {},
   "source": [
    "One of the unfortunate characteristics of the cellphone measurements is their inconsistent sample rates and frequent gaps. Measurements per device were transmitted in 60 s batches, however there were (for as of yet undetermined reasons) often gaps between batches, sometimes of several seconds. These frequent discontinuities complicate how this data can be treated. Some steps taken were necessary compromises because of these measurement issues. There were also discontinuities from participants turning off the app to answer questions (remote participants only) or during intermission. To handle these gaps with care throughout these analyses, we inserted NaN values in any gaps lasting more than a second before resampling the ACC measurements to get Quantity of Motion measures on common timestamp values.\n",
    "\n",
    "Lastly there was some data loss from phones lossing power or th app being accidentally or incidentally turned off/closed.\n",
    "\n",
    "The individual participants accelerometer measurements during the concert experiment were resampled to matching timestamps at 50 Hz"
   ]
  },
  {
   "cell_type": "code",
   "execution_count": 19,
   "metadata": {},
   "outputs": [],
   "source": [
    "# concert times 50 Hz This is the original sample rate on which the compensation for ax3 sensors were evaluated\n",
    "ts_ct = np.arange(-1086,9715, 0.02)*1000 \n",
    "dt_ct = Synch_time + pd.to_timedelta(ts_ct,unit='ms')\n",
    "binlist = np.concatenate((np.arange(0,200,20),np.arange(200,1000,200),np.arange(1000,10000, 1000),np.array([50000,1000000])),axis=0)"
   ]
  },
  {
   "cell_type": "markdown",
   "metadata": {},
   "source": [
    "binlist captures the sizes of gaps surviving after resampling. counting in milliseconds. the lists are different from the two sample raes, initial 50 hz and the later 10 hz. \n",
    "\n",
    "The choice of sampling and aligning on 50 Hz was to ensure that most points were interpolated. All sequences would have to be resampled to be put on the same time stamps, but staying with the same rate would allow patches to be imported without resampling against a majority that would be generated with interpolation. By choising a high but offset sample rate, this ensures no stretches of original data with any quirks it might retain. \n",
    "\n",
    "The later choice of 10 Hz is a downsampling that reduces the impacts of high frequency noise on the calculations and reduce the computational burden of these analyses. While downsampling is usually performed after lowpass filtering to remove aliasing noise effects, that is not possible here because of uneven sample rates of the original data. This resampling carries some sensor noise as well as movement noise, however, that noise is used in some analyses (spearman correlations), and all measurements retain comparable noise, so the impacts are not distinguishing between devices or participants. "
   ]
  },
  {
   "cell_type": "code",
   "execution_count": 20,
   "metadata": {},
   "outputs": [
    {
     "data": {
      "text/plain": [
       "array([      0,      20,      40,      60,      80,     100,     120,\n",
       "           140,     160,     180,     200,     400,     600,     800,\n",
       "          1000,    2000,    3000,    4000,    5000,    6000,    7000,\n",
       "          8000,    9000,   50000, 1000000])"
      ]
     },
     "execution_count": 20,
     "metadata": {},
     "output_type": "execute_result"
    }
   ],
   "source": [
    "\n",
    "binlist"
   ]
  },
  {
   "cell_type": "code",
   "execution_count": 21,
   "metadata": {
    "scrolled": true
   },
   "outputs": [
    {
     "name": "stdout",
     "output_type": "stream",
     "text": [
      "ADQ001\n",
      "ADQ002\n",
      "ADQ003\n",
      "ADQ004\n",
      "ADQ005\n",
      "ADQ006\n",
      "ADQ007\n",
      "ADQ008\n",
      "ADQ009\n",
      "ADQ010\n",
      "ADQ011\n",
      "ADQ012\n",
      "ADQ013\n",
      "ADQ014\n",
      "ADQ015\n",
      "ADQ016\n",
      "ADQ017\n",
      "ADQ018\n",
      "ADQ019\n",
      "ADQ020\n",
      "ADQ021\n",
      "ADQ022\n",
      "ADQ023\n"
     ]
    },
    {
     "name": "stderr",
     "output_type": "stream",
     "text": [
      "/Users/finn/.pyenv/versions/3.9.0/lib/python3.9/site-packages/scipy/interpolate/_interpolate.py:701: RuntimeWarning: invalid value encountered in divide\n",
      "  slope = (y_hi - y_lo) / (x_hi - x_lo)[:, None]\n",
      "/Users/finn/.pyenv/versions/3.9.0/lib/python3.9/site-packages/scipy/interpolate/_interpolate.py:701: RuntimeWarning: divide by zero encountered in divide\n",
      "  slope = (y_hi - y_lo) / (x_hi - x_lo)[:, None]\n",
      "/Users/finn/.pyenv/versions/3.9.0/lib/python3.9/site-packages/scipy/interpolate/_interpolate.py:701: RuntimeWarning: divide by zero encountered in divide\n",
      "  slope = (y_hi - y_lo) / (x_hi - x_lo)[:, None]\n",
      "/Users/finn/.pyenv/versions/3.9.0/lib/python3.9/site-packages/scipy/interpolate/_interpolate.py:701: RuntimeWarning: divide by zero encountered in divide\n",
      "  slope = (y_hi - y_lo) / (x_hi - x_lo)[:, None]\n",
      "/Users/finn/.pyenv/versions/3.9.0/lib/python3.9/site-packages/scipy/interpolate/_interpolate.py:701: RuntimeWarning: divide by zero encountered in divide\n",
      "  slope = (y_hi - y_lo) / (x_hi - x_lo)[:, None]\n",
      "/Users/finn/.pyenv/versions/3.9.0/lib/python3.9/site-packages/scipy/interpolate/_interpolate.py:701: RuntimeWarning: divide by zero encountered in divide\n",
      "  slope = (y_hi - y_lo) / (x_hi - x_lo)[:, None]\n",
      "/Users/finn/.pyenv/versions/3.9.0/lib/python3.9/site-packages/scipy/interpolate/_interpolate.py:701: RuntimeWarning: divide by zero encountered in divide\n",
      "  slope = (y_hi - y_lo) / (x_hi - x_lo)[:, None]\n",
      "/Users/finn/.pyenv/versions/3.9.0/lib/python3.9/site-packages/scipy/interpolate/_interpolate.py:701: RuntimeWarning: invalid value encountered in divide\n",
      "  slope = (y_hi - y_lo) / (x_hi - x_lo)[:, None]\n"
     ]
    },
    {
     "name": "stdout",
     "output_type": "stream",
     "text": [
      "ADQ024\n",
      "ADQ025\n",
      "ADQ026\n",
      "ADQ027\n",
      "ADQ028\n",
      "ADQ029\n",
      "ADQ030\n",
      "ADQ031\n",
      "ADQ032\n",
      "ADQ033\n",
      "ADQ034\n",
      "ADQ035\n",
      "ADQ036\n",
      "ADQ037\n",
      "ADQ038\n",
      "ADQ039\n",
      "ADQ040\n",
      "ADQ041\n",
      "ADQ042\n",
      "ADQ043\n",
      "ADQ044\n",
      "ADQ045\n",
      "ADQ046\n",
      "ADQ047\n",
      "ADQ048\n",
      "ADQ049\n",
      "ADQ050\n",
      "ADQ051\n",
      "ADQ052\n",
      "ADQ053\n",
      "ADQ054\n",
      "ADQ055\n",
      "ADQ056\n",
      "ADQ057\n",
      "ADQ058\n",
      "ADQ059\n",
      "ADQ060\n",
      "ADQ061\n",
      "ADQ062\n",
      "ADQ063\n",
      "ADQ064\n",
      "ADQ065\n",
      "ADQ066\n",
      "ADR067\n",
      "ADR068\n",
      "ADR069\n",
      "ADR070\n",
      "ADR071\n",
      "AEQ077\n",
      "AEQ078\n",
      "AEQ079\n",
      "AEQ080\n",
      "AEQ081\n",
      "AEQ082\n",
      "AEQ083\n",
      "AEQ084\n",
      "AEQ085\n",
      "AEQ086\n",
      "AEQ087\n",
      "AEQ088\n",
      "AEQ089\n",
      "AER090\n",
      "BDQ092\n",
      "BDQ093\n",
      "BEQ095\n",
      "BEQ096\n",
      "BEQ097\n",
      "BEQ098\n",
      "BEQ099\n",
      "BEQ100\n",
      "BEQ101\n",
      "BEQ102\n",
      "BEQ103\n",
      "BEQ104\n",
      "BEQ105\n",
      "BEQ106\n",
      "BEQ107\n",
      "BEQ108\n",
      "BEQ109\n",
      "BEQ110\n",
      "BEQ111\n",
      "BEQ112\n",
      "BEQ113\n",
      "BEQ114\n",
      "BEQ115\n",
      "BEQ116\n",
      "BEQ117\n",
      "BEQ118\n",
      "BEQ119\n",
      "BnQ131\n",
      "BnQ132\n",
      "BnQ133\n",
      "190.17425990104675\n",
      "190.5790638923645\n"
     ]
    }
   ],
   "source": [
    "samples_df=pd.DataFrame(index = alignedParts['Participant_Code'],columns = ['Sensor','Average Sample rate','Median sample period','Missing Samples','Average Normed ACC','Median Normed Jerk','New Median Jerk']+list(binlist[1:]))\n",
    "tic = time.time()\n",
    "\n",
    "# load those motion traces \n",
    "# gather the aligned recordings for the live performance. Combining AX3 and ML data!\n",
    "aud_df = pd.DataFrame(index = ts_ct)\n",
    "kept_dev = []\n",
    "gap_t = 1000\n",
    "trial_dic = {}\n",
    "bad_gaps = []\n",
    "for i, participant in alignedParts.iterrows(): # .loc[21:21,:]\n",
    "    part = participant['Participant_Code']\n",
    "    print(part)\n",
    "    if part[2]=='Q': # Motionlab phone acc\n",
    "        inst_d = pd.read_csv(public_mlmotion + part + '_Mobile_Motion.csv' )\n",
    "        samples_df.loc[part,'Sensor'] = 'Mobile'\n",
    "    else: # AX3\n",
    "        inst_d = pd.read_csv(public_ax3 + part + '_AX3_Motion.csv' )\n",
    "        samples_df.loc[part,'Sensor'] = 'AX3'\n",
    "    samples_df.loc[part,'Average Sample period'] = inst_d['device_timestamps'].diff().mean()/1000 #len(inst_d)/((inst_d.time.iloc[-1]-inst_d.time.iloc[0])/1000)\n",
    "    samples_df.loc[part,'Median sample period'] = inst_d['device_timestamps'].diff().median()/1000\n",
    "    samples_df.loc[part,'Average Normed ACC'] = (inst_d['x'].pow(2) + inst_d['y'].pow(2) + inst_d['z'].pow(2)).pow(0.5).median()\n",
    "    samples_df.loc[part,'Median Normed Jerk'] = (inst_d['x'].pow(2) + inst_d['y'].pow(2) + inst_d['z'].pow(2)).pow(0.5).diff().abs().median()\n",
    "    samples_df.loc[part,'UpQ Normed ACC'] = (inst_d['x'].pow(2) + inst_d['y'].pow(2) + inst_d['z'].pow(2)).pow(0.5).quantile(0.75)\n",
    "    samples_df.loc[part,'UpQ Normed Jerk'] = (inst_d['x'].pow(2) + inst_d['y'].pow(2) + inst_d['z'].pow(2)).pow(0.5).diff().abs().quantile(0.75)\n",
    "    samples_df.loc[part,'95 Normed ACC'] = (inst_d['x'].pow(2) + inst_d['y'].pow(2) + inst_d['z'].pow(2)).pow(0.5).quantile(0.95)\n",
    "    samples_df.loc[part,'95 Normed Jerk'] = (inst_d['x'].pow(2) + inst_d['y'].pow(2) + inst_d['z'].pow(2)).pow(0.5).diff().abs().quantile(0.95)\n",
    "    inst_d['datetime']=(pd.to_datetime(inst_d['datetime'])) # concert time stamps, confirm format\n",
    "    datas = am.gap_nans(inst_d,1000)\n",
    "    #get concert time\n",
    "    resampled = pd.DataFrame(index = ts_ct)\n",
    "    cols = datas.columns\n",
    "    for col in cols[1:]:\n",
    "        f = interpolate.interp1d(datas['time'], datas[col],fill_value='extrapolate')\n",
    "        resampled[col] = f(ts_ct)\n",
    "        \n",
    "    # extract 1D accelerometer feature for easy comparison\n",
    "    # and basic normalisation\n",
    "    b = np.linalg.norm(resampled[['x','y','z']].diff().values,axis=1)\n",
    "    if part[2]=='R': # aligned AX3 correction factor (basic but verified for low motion conditions)\n",
    "#         aud_df.loc[:,part] = b*6 # could go down to 5, based on distributions (high end)\n",
    "        trial_dic[part] = pd.Series(index=dt_ct,data=b*5)\n",
    "    else:\n",
    "#         aud_df.loc[:,part] = b\n",
    "        trial_dic[part] = pd.Series(index=dt_ct,data=b)\n",
    "    hist, edges = np.histogram(inst_d['device_timestamps'].diff(),bins=binlist,density=False)\n",
    "    samples_df.loc[part,list(binlist[1:])] = hist\n",
    "print(time.time()-tic)   \n",
    "aud_df = pd.concat(trial_dic,axis=1)\n",
    "print(time.time()-tic)\n",
    "aud_df.index = dt_ct\n",
    "samples_df.loc[:,'New Median Jerk'] = aud_df.median()\n",
    "samples_df.loc[:,'New UpQ Jerk'] = aud_df.quantile(0.75)\n",
    "samples_df.loc[:,'New 95 Jerk'] = aud_df.quantile(0.95)"
   ]
  },
  {
   "cell_type": "markdown",
   "metadata": {},
   "source": [
    "### analysis of gaps in mobile phone recordings"
   ]
  },
  {
   "cell_type": "code",
   "execution_count": 68,
   "metadata": {
    "scrolled": true
   },
   "outputs": [
    {
     "data": {
      "text/html": [
       "<div>\n",
       "<style scoped>\n",
       "    .dataframe tbody tr th:only-of-type {\n",
       "        vertical-align: middle;\n",
       "    }\n",
       "\n",
       "    .dataframe tbody tr th {\n",
       "        vertical-align: top;\n",
       "    }\n",
       "\n",
       "    .dataframe thead th {\n",
       "        text-align: right;\n",
       "    }\n",
       "</style>\n",
       "<table border=\"1\" class=\"dataframe\">\n",
       "  <thead>\n",
       "    <tr style=\"text-align: right;\">\n",
       "      <th></th>\n",
       "      <th>Sensor</th>\n",
       "      <th>Average Sample rate</th>\n",
       "      <th>Median sample period</th>\n",
       "      <th>Missing Samples</th>\n",
       "      <th>Average Normed ACC</th>\n",
       "      <th>Median Normed Jerk</th>\n",
       "      <th>New Median Jerk</th>\n",
       "      <th>20</th>\n",
       "      <th>40</th>\n",
       "      <th>60</th>\n",
       "      <th>...</th>\n",
       "      <th>9000</th>\n",
       "      <th>50000</th>\n",
       "      <th>1000000</th>\n",
       "      <th>Average Sample period</th>\n",
       "      <th>UpQ Normed ACC</th>\n",
       "      <th>UpQ Normed Jerk</th>\n",
       "      <th>95 Normed ACC</th>\n",
       "      <th>95 Normed Jerk</th>\n",
       "      <th>New UpQ Jerk</th>\n",
       "      <th>New 95 Jerk</th>\n",
       "    </tr>\n",
       "    <tr>\n",
       "      <th>Participant_Code</th>\n",
       "      <th></th>\n",
       "      <th></th>\n",
       "      <th></th>\n",
       "      <th></th>\n",
       "      <th></th>\n",
       "      <th></th>\n",
       "      <th></th>\n",
       "      <th></th>\n",
       "      <th></th>\n",
       "      <th></th>\n",
       "      <th></th>\n",
       "      <th></th>\n",
       "      <th></th>\n",
       "      <th></th>\n",
       "      <th></th>\n",
       "      <th></th>\n",
       "      <th></th>\n",
       "      <th></th>\n",
       "      <th></th>\n",
       "      <th></th>\n",
       "      <th></th>\n",
       "    </tr>\n",
       "  </thead>\n",
       "  <tbody>\n",
       "    <tr>\n",
       "      <th>ADQ001</th>\n",
       "      <td>Mobile</td>\n",
       "      <td>NaN</td>\n",
       "      <td>0.017</td>\n",
       "      <td>NaN</td>\n",
       "      <td>9.861908</td>\n",
       "      <td>0.015808</td>\n",
       "      <td>0.033952</td>\n",
       "      <td>424058</td>\n",
       "      <td>614</td>\n",
       "      <td>12</td>\n",
       "      <td>...</td>\n",
       "      <td>0</td>\n",
       "      <td>0</td>\n",
       "      <td>0</td>\n",
       "      <td>0.023170</td>\n",
       "      <td>9.884882</td>\n",
       "      <td>0.039368</td>\n",
       "      <td>10.009002</td>\n",
       "      <td>0.183908</td>\n",
       "      <td>0.078325</td>\n",
       "      <td>0.357148</td>\n",
       "    </tr>\n",
       "    <tr>\n",
       "      <th>ADQ002</th>\n",
       "      <td>Mobile</td>\n",
       "      <td>NaN</td>\n",
       "      <td>0.017</td>\n",
       "      <td>NaN</td>\n",
       "      <td>9.684524</td>\n",
       "      <td>0.04566</td>\n",
       "      <td>0.090139</td>\n",
       "      <td>206705</td>\n",
       "      <td>1651</td>\n",
       "      <td>15</td>\n",
       "      <td>...</td>\n",
       "      <td>0</td>\n",
       "      <td>0</td>\n",
       "      <td>0</td>\n",
       "      <td>0.044421</td>\n",
       "      <td>9.731393</td>\n",
       "      <td>0.086983</td>\n",
       "      <td>9.867624</td>\n",
       "      <td>0.221312</td>\n",
       "      <td>0.136017</td>\n",
       "      <td>0.397436</td>\n",
       "    </tr>\n",
       "    <tr>\n",
       "      <th>ADQ003</th>\n",
       "      <td>Mobile</td>\n",
       "      <td>NaN</td>\n",
       "      <td>0.017</td>\n",
       "      <td>NaN</td>\n",
       "      <td>9.9</td>\n",
       "      <td>0.00757</td>\n",
       "      <td>0.068641</td>\n",
       "      <td>446682</td>\n",
       "      <td>4157</td>\n",
       "      <td>1</td>\n",
       "      <td>...</td>\n",
       "      <td>0</td>\n",
       "      <td>0</td>\n",
       "      <td>0</td>\n",
       "      <td>0.020520</td>\n",
       "      <td>9.938813</td>\n",
       "      <td>0.083981</td>\n",
       "      <td>10.031949</td>\n",
       "      <td>0.186195</td>\n",
       "      <td>0.101545</td>\n",
       "      <td>0.335062</td>\n",
       "    </tr>\n",
       "    <tr>\n",
       "      <th>ADQ004</th>\n",
       "      <td>Mobile</td>\n",
       "      <td>NaN</td>\n",
       "      <td>0.017</td>\n",
       "      <td>NaN</td>\n",
       "      <td>9.694328</td>\n",
       "      <td>0.017985</td>\n",
       "      <td>0.085714</td>\n",
       "      <td>427093</td>\n",
       "      <td>23547</td>\n",
       "      <td>10</td>\n",
       "      <td>...</td>\n",
       "      <td>0</td>\n",
       "      <td>1</td>\n",
       "      <td>0</td>\n",
       "      <td>0.020542</td>\n",
       "      <td>9.739096</td>\n",
       "      <td>0.092794</td>\n",
       "      <td>9.971961</td>\n",
       "      <td>0.256736</td>\n",
       "      <td>0.126710</td>\n",
       "      <td>0.513089</td>\n",
       "    </tr>\n",
       "    <tr>\n",
       "      <th>ADQ005</th>\n",
       "      <td>Mobile</td>\n",
       "      <td>NaN</td>\n",
       "      <td>0.017</td>\n",
       "      <td>NaN</td>\n",
       "      <td>9.793292</td>\n",
       "      <td>0.020406</td>\n",
       "      <td>0.03965</td>\n",
       "      <td>489151</td>\n",
       "      <td>1456</td>\n",
       "      <td>5</td>\n",
       "      <td>...</td>\n",
       "      <td>0</td>\n",
       "      <td>0</td>\n",
       "      <td>0</td>\n",
       "      <td>0.020024</td>\n",
       "      <td>9.820093</td>\n",
       "      <td>0.039702</td>\n",
       "      <td>9.884419</td>\n",
       "      <td>0.109884</td>\n",
       "      <td>0.068729</td>\n",
       "      <td>0.190112</td>\n",
       "    </tr>\n",
       "  </tbody>\n",
       "</table>\n",
       "<p>5 rows × 38 columns</p>\n",
       "</div>"
      ],
      "text/plain": [
       "                  Sensor Average Sample rate Median sample period  \\\n",
       "Participant_Code                                                    \n",
       "ADQ001            Mobile                 NaN                0.017   \n",
       "ADQ002            Mobile                 NaN                0.017   \n",
       "ADQ003            Mobile                 NaN                0.017   \n",
       "ADQ004            Mobile                 NaN                0.017   \n",
       "ADQ005            Mobile                 NaN                0.017   \n",
       "\n",
       "                 Missing Samples Average Normed ACC Median Normed Jerk  \\\n",
       "Participant_Code                                                         \n",
       "ADQ001                       NaN           9.861908           0.015808   \n",
       "ADQ002                       NaN           9.684524            0.04566   \n",
       "ADQ003                       NaN                9.9            0.00757   \n",
       "ADQ004                       NaN           9.694328           0.017985   \n",
       "ADQ005                       NaN           9.793292           0.020406   \n",
       "\n",
       "                 New Median Jerk      20     40  60  ... 9000 50000 1000000  \\\n",
       "Participant_Code                                     ...                      \n",
       "ADQ001                  0.033952  424058    614  12  ...    0     0       0   \n",
       "ADQ002                  0.090139  206705   1651  15  ...    0     0       0   \n",
       "ADQ003                  0.068641  446682   4157   1  ...    0     0       0   \n",
       "ADQ004                  0.085714  427093  23547  10  ...    0     1       0   \n",
       "ADQ005                   0.03965  489151   1456   5  ...    0     0       0   \n",
       "\n",
       "                 Average Sample period UpQ Normed ACC UpQ Normed Jerk  \\\n",
       "Participant_Code                                                        \n",
       "ADQ001                        0.023170       9.884882        0.039368   \n",
       "ADQ002                        0.044421       9.731393        0.086983   \n",
       "ADQ003                        0.020520       9.938813        0.083981   \n",
       "ADQ004                        0.020542       9.739096        0.092794   \n",
       "ADQ005                        0.020024       9.820093        0.039702   \n",
       "\n",
       "                 95 Normed ACC 95 Normed Jerk New UpQ Jerk New 95 Jerk  \n",
       "Participant_Code                                                        \n",
       "ADQ001               10.009002       0.183908     0.078325    0.357148  \n",
       "ADQ002                9.867624       0.221312     0.136017    0.397436  \n",
       "ADQ003               10.031949       0.186195     0.101545    0.335062  \n",
       "ADQ004                9.971961       0.256736     0.126710    0.513089  \n",
       "ADQ005                9.884419       0.109884     0.068729    0.190112  \n",
       "\n",
       "[5 rows x 38 columns]"
      ]
     },
     "execution_count": 68,
     "metadata": {},
     "output_type": "execute_result"
    }
   ],
   "source": [
    "samples_df.iloc[:5,:]"
   ]
  },
  {
   "cell_type": "code",
   "execution_count": 59,
   "metadata": {},
   "outputs": [
    {
     "data": {
      "image/png": "[encoded data removed]",
      "text/plain": [
       "<Figure size 432x288 with 1 Axes>"
      ]
     },
     "metadata": {
      "needs_background": "light"
     },
     "output_type": "display_data"
    }
   ],
   "source": [
    "samples_df[binlist[2:]].T.plot(logy=True,legend=False)\n",
    "plt.title('Log counts of gaps by size (ms) in each audience ACCs')\n",
    "plt.ylabel('Counts (log)')\n",
    "plt.xlabel('sample time gap sizes (ms) not uniform')\n",
    "plt.savefig('Sampling_gaps_distributions.png',dpi = 196)\n",
    "\n",
    "plt.show()"
   ]
  },
  {
   "cell_type": "code",
   "execution_count": 80,
   "metadata": {},
   "outputs": [
    {
     "data": {
      "text/plain": [
       "array([  60,   80,  100,  120,  140,  160,  180,  200,  400,  600,  800,\n",
       "       1000, 2000, 3000, 4000, 5000, 6000, 7000, 8000, 9000])"
      ]
     },
     "execution_count": 80,
     "metadata": {},
     "output_type": "execute_result"
    }
   ],
   "source": [
    "binlist[3:23]"
   ]
  },
  {
   "cell_type": "code",
   "execution_count": 81,
   "metadata": {},
   "outputs": [
    {
     "data": {
      "image/png": "[encoded data removed]",
      "text/plain": [
       "<Figure size 720x288 with 1 Axes>"
      ]
     },
     "metadata": {
      "needs_background": "light"
     },
     "output_type": "display_data"
    }
   ],
   "source": [
    "K = samples_df[binlist[1:]].copy()\n",
    "for c in K: K[c] = K[c]*c # max time lost in gap\n",
    "(K[binlist[3:23]].sum(axis=1)/1000).hist(bins = 50,figsize = [10,4])\n",
    "plt.title('Rough estimate of total measurement signal lost to intermitting gaps in samples')\n",
    "plt.xlabel('Max estimated total seconds of gaps per device')\n",
    "plt.ylabel('Number of devices ')\n",
    "plt.savefig('SecondsLost_hist.png',dpi = 196)\n",
    "plt.show()"
   ]
  },
  {
   "cell_type": "code",
   "execution_count": 70,
   "metadata": {},
   "outputs": [
    {
     "data": {
      "image/png": "[encoded data removed]",
      "text/plain": [
       "<Figure size 432x288 with 1 Axes>"
      ]
     },
     "metadata": {
      "needs_background": "light"
     },
     "output_type": "display_data"
    },
    {
     "data": {
      "text/plain": [
       "array([ 40,  60,  80, 100])"
      ]
     },
     "execution_count": 70,
     "metadata": {},
     "output_type": "execute_result"
    }
   ],
   "source": [
    "(samples_df[binlist[2:]].sum(axis=1)/samples_df[binlist[1:]].sum(axis=1)).hist(bins=100,label='all gaps')\n",
    "(samples_df[binlist[2:6]].sum(axis=1)/samples_df[binlist[1:]].sum(axis=1)).hist(bins=100,label='gaps<100ms')\n",
    "plt.title('Ratio of gaps/sample points across devices')\n",
    "plt.legend()\n",
    "plt.xlabel('Ratio of gaps to samples')\n",
    "plt.ylabel('Device counts, audience motion')\n",
    "plt.savefig('gap_ratios_100ms_distributions.png',dpi = 196)\n",
    "plt.show()\n",
    "binlist[2:6]"
   ]
  },
  {
   "cell_type": "markdown",
   "metadata": {},
   "source": [
    "The vast majority of gaps are under 100 ms, per device and across devices, so a resampling at 10 Hz sets these measurements up for continguous measurements that can be treated as evenly sampled. "
   ]
  },
  {
   "cell_type": "markdown",
   "metadata": {},
   "source": []
  },
  {
   "cell_type": "markdown",
   "metadata": {},
   "source": [
    "## Fixing common ACC measurement range\n",
    "Mobile phones differ in construction from each other and from the Axivity's AX3 accelerometer sensors. In order to compare between measurements, we must ensure they are comparable in values recorded despite the ambiguity of the movements captured. \n",
    "\n",
    "The way these \"bodysway\" sensors are worn, they are not strictly fix in place, allowing soem variation in bounce and swing that depend on the (static) friction between the phone and the wearer's chest (clothing) and weight of the device (small AX3, larger phones), as well as differences in how and the force with which they move for similar actions. When possible, statistics applied to these measurements should be within-subject comparisons, but it would be nice to at least stabalise the measurements if normalisation is possible"
   ]
  },
  {
   "cell_type": "markdown",
   "metadata": {},
   "source": [
    "We really need to bring the motion measurements into a similar range of values that are comparable over time and between participants.\n",
    "\n",
    "In theory, there are a few contributors of signal value changes in these measurements:\n",
    "\n",
    "   1. Sensor noise: dependent on the measurement device, so the amplitude will differ between participants, but this is the small jitter in values that is present across all movement conditions. This should be noticiable in differences from sample to sample, so at the initial near 60 Hz rate. We want to reduce this to nothing if possible.\n",
    "   2. Small displacement: Movements at a slower rate than sensor noise, trajectories in 250-10000 ms with mostly small amplitudes, often involuntary, at least during passive music listening. This need to be brought into a comparable range between participants, but not necessarily matched in distribution. Maybe match at lower range and check that scale isn't off the charts different (factor of 10).\n",
    "  3. Clapping: 4-2 Hz oscillation for sustained period, 2-80 seconds, with some variation in intensity (amplitude). Participants movement recordings can be scaled to the range of common values. Everyone should have calm claps, some may have more time in the extremely excited range, so normalised by 25th percentile?\n",
    "  4. Big displacement: One off displacements at rate of one or twice every 2-30 minutes. These are changes in seating or posture that are triggers for behaviour change and rare during music listening but common before and after performances. Not garaunteed in all movement recordings. Nor is it certain they should be matched between participants, but can be a check on scale.\n",
    "\n",
    "So, ideas about making things work: look at cummulative distributions of first order differences with different sample rates 50 Hz, 10 Hz, 1 Hz, 0.1 Hz.\n",
    "\n",
    "Test on pairs of recordings to bring parameters into focus: noise suppression, range alignment, truncation on extremes.\n",
    "\n",
    "It isn't practical, with so much noise (inconsistent) and variabilty in signal presence to have a signal based criteria for normalising. However there is a need to compensate for the difference in accelerometer units and conditions. \n",
    "\n",
    "We can convert the AX3 signals into Newtons (1 = 9.8), however this results in AX3 values that are much larger than the mobile phone measurements because the two systems are different in how they behave while being worn. If both systems are displaced the same, with the same velocity, the resultant measured acceleration should match. However the systems are very different in their weight: the phones were relatively heavy, ~145 g + 35.5 g holder around participant's neck and resting at slight angle on their chest,  and the ax3 were relatively light, ~10.5 g sensor + 35.5 g holder. They also lay in contact differently on participant's chests, with wider area of contact and normal force supporting greater static friction for the phone system than the ax3 system. Thus audience motions that produced a substantial force resulted different trajectories, with the lighter system often bouncing off the chest when the heavier phone system stayed in contact, say during applause. As we were interested in these measurements as an indiciation of audience motion rather than accelerometer trajectories, we opted to scale the AX3 measurements by a factor that allowed the high end (the active end) of their sequential difference distributions to fall within that of the mobile phones measurements. The phones systems themselves varied in weight, so getting the exact scale was possible anyway. That device-wise comparison of jerk supports a correction of 5 or 6. More thorough testing of parameters can be check here: https://github.com/finn42/CopenML_Analysis/blob/main/Movement_Normalise_test.ipynb"
   ]
  },
  {
   "cell_type": "markdown",
   "metadata": {},
   "source": [
    "#### if its really sticky we can use 5 or 6.  10 would be too much, for sure. "
   ]
  },
  {
   "cell_type": "code",
   "execution_count": 82,
   "metadata": {},
   "outputs": [
    {
     "data": {
      "text/plain": [
       "Average Normed ACC    9.850464\n",
       "Median Normed Jerk    0.020951\n",
       "New Median Jerk       0.057638\n",
       "Name: 0.7, dtype: object"
      ]
     },
     "execution_count": 82,
     "metadata": {},
     "output_type": "execute_result"
    }
   ],
   "source": [
    "samples_df[['Average Normed ACC','Median Normed Jerk','New Median Jerk']].quantile(0.70)"
   ]
  },
  {
   "cell_type": "code",
   "execution_count": 86,
   "metadata": {},
   "outputs": [
    {
     "data": {
      "image/png": "[encoded data removed]",
      "text/plain": [
       "<Figure size 720x216 with 2 Axes>"
      ]
     },
     "metadata": {
      "needs_background": "light"
     },
     "output_type": "display_data"
    },
    {
     "data": {
      "image/png": "[encoded data removed]",
      "text/plain": [
       "<Figure size 1008x216 with 3 Axes>"
      ]
     },
     "metadata": {
      "needs_background": "light"
     },
     "output_type": "display_data"
    }
   ],
   "source": [
    "f, (axes) = plt.subplots(1,2,figsize=(10,3))\n",
    "i = 0\n",
    "for tag in ['Average Normed ACC','Median Normed Jerk 50Hz']:\n",
    "    sns.boxenplot(x = 'Sensor',y = tag,data = samples_df, ax = axes[i])\n",
    "    axes[i].set_ylim([0,samples_df[tag].max()])\n",
    "    i+=1\n",
    "axes[0].set_title('Original ACC by device (g)')\n",
    "axes[1].set_title('Original Jerk by device')\n",
    "\n",
    "plt.show()    \n",
    "f, (axes) = plt.subplots(1,3,figsize=(14,3))\n",
    "i = 0\n",
    "for tag in ['New Median Jerk','New UpQ Jerk','New 95 Jerk']:\n",
    "    sns.boxenplot(x = 'Sensor',y = tag,data = samples_df, ax = axes[i])\n",
    "    axes[i].set_ylim([0,0.6])\n",
    "    i+=1\n",
    "    \n",
    "axes[0].set_title('Corrected medians')\n",
    "axes[1].set_title('Corrected 75th percentile')\n",
    "axes[2].set_title('Corrected 95th percentile')\n",
    "\n",
    "plt.show()    "
   ]
  },
  {
   "cell_type": "markdown",
   "metadata": {},
   "source": [
    "These distributions show how the smaller correction on the ACC units gives these measurements a chance to land within the range of values captured on the mobile phones. \n",
    "\n",
    "Note it is also worth noting that different mobile phone operating systems save accelerometer sensor measurements a bit different. While both record measurements in m/s^2, yeidling average ACC values of gravity at 9.8 (see the distribution in the top plot above), they record with different degrees of precision. iPhones truncating measurements to 5 or 6 digits, while android saves with higher precision (numerical), without any reason to think these values are actually more precise (physical). "
   ]
  },
  {
   "cell_type": "code",
   "execution_count": 87,
   "metadata": {},
   "outputs": [],
   "source": [
    "# concert times 10 Hz. This is the sample rate later analyses were performed (surprise!)\n",
    "ts_ct = np.arange(-1086,9715, 0.1)*1000 \n",
    "dt_ct = Synch_time + pd.to_timedelta(ts_ct,unit='ms')\n",
    "binlist = np.concatenate((np.arange(0,1000,200),np.arange(1000,10000, 1000),np.array([50000,1000000])),axis=0)\n",
    " # milliseconds"
   ]
  },
  {
   "cell_type": "code",
   "execution_count": 88,
   "metadata": {
    "scrolled": true
   },
   "outputs": [
    {
     "name": "stdout",
     "output_type": "stream",
     "text": [
      "ADQ001\n",
      "ADQ002\n",
      "ADQ003\n",
      "ADQ004\n",
      "ADQ005\n",
      "ADQ006\n",
      "ADQ007\n",
      "ADQ008\n",
      "ADQ009\n",
      "ADQ010\n",
      "ADQ011\n",
      "ADQ012\n",
      "ADQ013\n",
      "ADQ014\n",
      "ADQ015\n",
      "ADQ016\n",
      "ADQ017\n",
      "ADQ018\n",
      "ADQ019\n",
      "ADQ020\n",
      "ADQ021\n",
      "ADQ022\n",
      "ADQ023\n"
     ]
    },
    {
     "name": "stderr",
     "output_type": "stream",
     "text": [
      "/Users/finn/.pyenv/versions/3.9.0/lib/python3.9/site-packages/scipy/interpolate/_interpolate.py:701: RuntimeWarning: invalid value encountered in divide\n",
      "  slope = (y_hi - y_lo) / (x_hi - x_lo)[:, None]\n",
      "/Users/finn/.pyenv/versions/3.9.0/lib/python3.9/site-packages/scipy/interpolate/_interpolate.py:701: RuntimeWarning: divide by zero encountered in divide\n",
      "  slope = (y_hi - y_lo) / (x_hi - x_lo)[:, None]\n",
      "/Users/finn/.pyenv/versions/3.9.0/lib/python3.9/site-packages/scipy/interpolate/_interpolate.py:701: RuntimeWarning: divide by zero encountered in divide\n",
      "  slope = (y_hi - y_lo) / (x_hi - x_lo)[:, None]\n",
      "/Users/finn/.pyenv/versions/3.9.0/lib/python3.9/site-packages/scipy/interpolate/_interpolate.py:701: RuntimeWarning: divide by zero encountered in divide\n",
      "  slope = (y_hi - y_lo) / (x_hi - x_lo)[:, None]\n",
      "/Users/finn/.pyenv/versions/3.9.0/lib/python3.9/site-packages/scipy/interpolate/_interpolate.py:701: RuntimeWarning: divide by zero encountered in divide\n",
      "  slope = (y_hi - y_lo) / (x_hi - x_lo)[:, None]\n",
      "/Users/finn/.pyenv/versions/3.9.0/lib/python3.9/site-packages/scipy/interpolate/_interpolate.py:701: RuntimeWarning: divide by zero encountered in divide\n",
      "  slope = (y_hi - y_lo) / (x_hi - x_lo)[:, None]\n",
      "/Users/finn/.pyenv/versions/3.9.0/lib/python3.9/site-packages/scipy/interpolate/_interpolate.py:701: RuntimeWarning: divide by zero encountered in divide\n",
      "  slope = (y_hi - y_lo) / (x_hi - x_lo)[:, None]\n",
      "/Users/finn/.pyenv/versions/3.9.0/lib/python3.9/site-packages/scipy/interpolate/_interpolate.py:701: RuntimeWarning: invalid value encountered in divide\n",
      "  slope = (y_hi - y_lo) / (x_hi - x_lo)[:, None]\n"
     ]
    },
    {
     "name": "stdout",
     "output_type": "stream",
     "text": [
      "ADQ024\n",
      "ADQ025\n",
      "ADQ026\n",
      "ADQ027\n",
      "ADQ028\n",
      "ADQ029\n",
      "ADQ030\n",
      "ADQ031\n",
      "ADQ032\n",
      "ADQ033\n",
      "ADQ034\n",
      "ADQ035\n",
      "ADQ036\n",
      "ADQ037\n",
      "ADQ038\n",
      "ADQ039\n",
      "ADQ040\n",
      "ADQ041\n",
      "ADQ042\n",
      "ADQ043\n",
      "ADQ044\n",
      "ADQ045\n",
      "ADQ046\n",
      "ADQ047\n",
      "ADQ048\n",
      "ADQ049\n",
      "ADQ050\n",
      "ADQ051\n",
      "ADQ052\n",
      "ADQ053\n",
      "ADQ054\n",
      "ADQ055\n",
      "ADQ056\n",
      "ADQ057\n",
      "ADQ058\n",
      "ADQ059\n",
      "ADQ060\n",
      "ADQ061\n",
      "ADQ062\n",
      "ADQ063\n",
      "ADQ064\n",
      "ADQ065\n",
      "ADQ066\n",
      "ADR067\n",
      "ADR068\n",
      "ADR069\n",
      "ADR070\n",
      "ADR071\n",
      "AEQ077\n",
      "AEQ078\n",
      "AEQ079\n",
      "AEQ080\n",
      "AEQ081\n",
      "AEQ082\n",
      "AEQ083\n",
      "AEQ084\n",
      "AEQ085\n",
      "AEQ086\n",
      "AEQ087\n",
      "AEQ088\n",
      "AEQ089\n",
      "AER090\n",
      "BDQ092\n",
      "BDQ093\n",
      "BEQ095\n",
      "BEQ096\n",
      "BEQ097\n",
      "BEQ098\n",
      "BEQ099\n",
      "BEQ100\n",
      "BEQ101\n",
      "BEQ102\n",
      "BEQ103\n",
      "BEQ104\n",
      "BEQ105\n",
      "BEQ106\n",
      "BEQ107\n",
      "BEQ108\n",
      "BEQ109\n",
      "BEQ110\n",
      "BEQ111\n",
      "BEQ112\n",
      "BEQ113\n",
      "BEQ114\n",
      "BEQ115\n",
      "BEQ116\n",
      "BEQ117\n",
      "BEQ118\n",
      "BEQ119\n",
      "BnQ131\n",
      "BnQ132\n",
      "BnQ133\n",
      "157.5197718143463\n",
      "157.6132936477661\n"
     ]
    }
   ],
   "source": [
    "samples_df=pd.DataFrame(index = alignedParts['Participant_Code'],columns = ['Sensor','Average Sample rate','Median sample period','Missing Samples','Average Normed ACC','Median Normed Jerk','New Median Jerk']+list(binlist[1:]))\n",
    "tic = time.time()\n",
    "\n",
    "# load those motion traces \n",
    "# gather the aligned recordings for the live performance. Combining AX3 and ML data!\n",
    "aud_df = pd.DataFrame(index = ts_ct)\n",
    "kept_dev = []\n",
    "gap_t = 1000\n",
    "trial_dic = {}\n",
    "bad_gaps = []\n",
    "for i, participant in alignedParts.iterrows(): # .loc[21:21,:]\n",
    "    part = participant['Participant_Code']\n",
    "    print(part)\n",
    "    if part[2]=='Q': # Motionlab phone acc\n",
    "        inst_d = pd.read_csv(public_mlmotion + part + '_Mobile_Motion.csv' )\n",
    "        samples_df.loc[part,'Sensor'] = 'Mobile'\n",
    "    else: # AX3\n",
    "        inst_d = pd.read_csv(public_ax3 + part + '_AX3_Motion.csv' )\n",
    "        samples_df.loc[part,'Sensor'] = 'AX3'\n",
    "    samples_df.loc[part,'Average Sample period'] = inst_d['device_timestamps'].diff().mean()/1000 #len(inst_d)/((inst_d.time.iloc[-1]-inst_d.time.iloc[0])/1000)\n",
    "    samples_df.loc[part,'Median sample period'] = inst_d['device_timestamps'].diff().median()/1000\n",
    "    samples_df.loc[part,'Average Normed ACC'] = (inst_d['x'].pow(2) + inst_d['y'].pow(2) + inst_d['z'].pow(2)).pow(0.5).median()\n",
    "    samples_df.loc[part,'Median Normed Jerk'] = (inst_d['x'].pow(2) + inst_d['y'].pow(2) + inst_d['z'].pow(2)).pow(0.5).diff().abs().median()\n",
    "    samples_df.loc[part,'UpQ Normed ACC'] = (inst_d['x'].pow(2) + inst_d['y'].pow(2) + inst_d['z'].pow(2)).pow(0.5).quantile(0.75)\n",
    "    samples_df.loc[part,'UpQ Normed Jerk'] = (inst_d['x'].pow(2) + inst_d['y'].pow(2) + inst_d['z'].pow(2)).pow(0.5).diff().abs().quantile(0.75)\n",
    "    samples_df.loc[part,'95 Normed ACC'] = (inst_d['x'].pow(2) + inst_d['y'].pow(2) + inst_d['z'].pow(2)).pow(0.5).quantile(0.95)\n",
    "    samples_df.loc[part,'95 Normed Jerk'] = (inst_d['x'].pow(2) + inst_d['y'].pow(2) + inst_d['z'].pow(2)).pow(0.5).diff().abs().quantile(0.95)\n",
    "    inst_d['datetime']=(pd.to_datetime(inst_d['datetime'])) # concert time stamps, confirm format\n",
    "    datas = am.gap_nans(inst_d,1000)\n",
    "    #get concert time\n",
    "    resampled = pd.DataFrame(index = ts_ct)\n",
    "    cols = datas.columns\n",
    "    for col in cols[1:]:\n",
    "        f = interpolate.interp1d(datas['time'], datas[col],fill_value='extrapolate')\n",
    "        resampled[col] = f(ts_ct)\n",
    "        \n",
    "    # extract 1D accelerometer feature for easy comparison\n",
    "    # and basic normalisation\n",
    "    b = np.linalg.norm(resampled[['x','y','z']].diff().values,axis=1)\n",
    "    if part[2]=='R': # aligned AX3 correction factor (basic but verified for low motion conditions)\n",
    "#         aud_df.loc[:,part] = b*6 # could go down to 5, based on distributions (high end)\n",
    "        trial_dic[part] = pd.Series(index=dt_ct,data=b*5)\n",
    "    else:\n",
    "#         aud_df.loc[:,part] = b\n",
    "        trial_dic[part] = pd.Series(index=dt_ct,data=b)\n",
    "    hist, edges = np.histogram(inst_d['device_timestamps'].diff(),bins=binlist,density=False)\n",
    "    samples_df.loc[part,list(binlist[1:])] = hist\n",
    "print(time.time()-tic)   \n",
    "aud_df = pd.concat(trial_dic,axis=1)\n",
    "print(time.time()-tic)\n",
    "aud_df.index = dt_ct\n",
    "samples_df.loc[:,'New Median Jerk'] = aud_df.median()\n",
    "samples_df.loc[:,'New UpQ Jerk'] = aud_df.quantile(0.75)\n",
    "samples_df.loc[:,'New 95 Jerk'] = aud_df.quantile(0.95)"
   ]
  },
  {
   "cell_type": "code",
   "execution_count": 94,
   "metadata": {},
   "outputs": [
    {
     "data": {
      "image/png": "[encoded data removed]",
      "text/plain": [
       "<Figure size 720x216 with 2 Axes>"
      ]
     },
     "metadata": {
      "needs_background": "light"
     },
     "output_type": "display_data"
    },
    {
     "data": {
      "image/png": "[encoded data removed]",
      "text/plain": [
       "<Figure size 1008x216 with 3 Axes>"
      ]
     },
     "metadata": {
      "needs_background": "light"
     },
     "output_type": "display_data"
    }
   ],
   "source": [
    "f, (axes) = plt.subplots(1,2,figsize=(10,3))\n",
    "i = 0\n",
    "for tag in ['Average Normed ACC','Median Normed Jerk']:\n",
    "    sns.boxenplot(x = 'Sensor',y = tag,data = samples_df, ax = axes[i])\n",
    "    axes[i].set_ylim([0,samples_df[tag].max()])\n",
    "    i+=1\n",
    "axes[0].set_title('Original ACC by device (g)')\n",
    "axes[1].set_title('Original Jerk by device')\n",
    "\n",
    "plt.show()    \n",
    "f, (axes) = plt.subplots(1,3,figsize=(14,3))\n",
    "i = 0\n",
    "for tag in ['New Median Jerk','New UpQ Jerk','New 95 Jerk']:\n",
    "    sns.boxenplot(x = 'Sensor',y = tag,data = samples_df, ax = axes[i])\n",
    "    axes[i].set_ylim([0,1.2])\n",
    "    i+=1\n",
    "    \n",
    "axes[0].set_title('Corrected medians')\n",
    "axes[1].set_title('Corrected 75th percentile')\n",
    "axes[2].set_title('Corrected 95th percentile')\n",
    "\n",
    "plt.show()    "
   ]
  },
  {
   "cell_type": "markdown",
   "metadata": {},
   "source": [
    "The range of values measured on mobile is broader (unimodal) than the AX3 but this correction for AX3s allows the upper range of values (when motion is occuring) to fall within the same spread. Correcting to the same accelation measurements (1 g to 9.8 m/s^2) would dramatically over shoot the measurements distributions. Because the weight of the sensor system is so different from phones, more comparable values are captured with this empirically-evaluated coefficient adjustment."
   ]
  },
  {
   "cell_type": "markdown",
   "metadata": {},
   "source": [
    "There are some questions about the differences between mobile devices: here we can't perform a systematic correction, but at least the average ACC measurements show that these devices consistently record in g's. The principle difference in operating systems (iOS and Adnroid) is in the precision recorded, specifically the number of digits. These however are not relevant for these analyses because we are not preserving the original sensor values, as everything is resampled, and both systems are sufficiently precise to not introduce systematic deviations into our use of the values recorded. \n",
    "\n",
    "Other uses of these measurements might be bothered by the differences, but here our treatments are not so sensitive"
   ]
  },
  {
   "cell_type": "code",
   "execution_count": null,
   "metadata": {},
   "outputs": [],
   "source": []
  }
 ],
 "metadata": {
  "kernelspec": {
   "display_name": "Python 3",
   "language": "python",
   "name": "python3"
  },
  "language_info": {
   "codemirror_mode": {
    "name": "ipython",
    "version": 3
   },
   "file_extension": ".py",
   "mimetype": "text/x-python",
   "name": "python",
   "nbconvert_exporter": "python",
   "pygments_lexer": "ipython3",
   "version": "3.9.0"
  }
 },
 "nbformat": 4,
 "nbformat_minor": 4
}
