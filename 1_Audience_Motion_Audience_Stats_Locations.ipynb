{
 "cells": [
  {
   "cell_type": "markdown",
   "metadata": {},
   "source": [
    "# MusicLab Copenhagen Audience Characteristics\n",
    "\n",
    "\n",
    "- Describe locations of participants in hall and relationship constellations\n",
    "\n",
    "- Describe audience participants by survey responses \n"
   ]
  },
  {
   "cell_type": "code",
   "execution_count": 1,
   "metadata": {},
   "outputs": [],
   "source": [
    "import sys\n",
    "import os\n",
    "import time\n",
    "\n",
    "import datetime as dt\n",
    "import math\n",
    "import numpy as np \n",
    "import scipy as sp\n",
    "import pandas as pd\n",
    "import matplotlib.pyplot as plt\n",
    "import seaborn as sns\n",
    "from scipy.signal import butter,filtfilt\n",
    "from scipy import interpolate\n",
    "from scipy.interpolate import interp1d\n",
    "import matplotlib.cm as cm\n",
    "import pingouin as pg"
   ]
  },
  {
   "cell_type": "code",
   "execution_count": 2,
   "metadata": {},
   "outputs": [],
   "source": [
    "# import functions from definition files in the same folder as this jupiter notebook\n",
    "%load_ext autoreload\n",
    "%autoreload 1\n",
    "%aimport am\n",
    "%aimport frf"
   ]
  },
  {
   "cell_type": "code",
   "execution_count": 3,
   "metadata": {},
   "outputs": [],
   "source": [
    "%reload_ext autoreload"
   ]
  },
  {
   "cell_type": "code",
   "execution_count": 10,
   "metadata": {},
   "outputs": [
    {
     "data": {
      "text/plain": [
       "{'divide': 'warn', 'over': 'warn', 'under': 'ignore', 'invalid': 'warn'}"
      ]
     },
     "execution_count": 10,
     "metadata": {},
     "output_type": "execute_result"
    }
   ],
   "source": [
    "np.seterr(divide='ignore', invalid='ignore')"
   ]
  },
  {
   "cell_type": "markdown",
   "metadata": {},
   "source": [
    "# Data preparation \n",
    "Aligning cellphone accelerometer measurements collected via MusicLab App and AX3 measurements from audience participant was performed in a different repository. This process depended on the detection of taps by participants on their devices to the synchronisation cues played before each half of the concert. See Notebook below for a summary of that work to align accelerometer measurements: \n",
    "https://github.com/finn42/MusicLabCopenhegan_MotionAlignment/blob/main/Alignment_Describe.ipynb\n",
    "\n",
    "These aligned accelerometer measurments were released publically as part of the MusicLab Copenhagen repository (https://osf.io/v9wa4/). This analysis uses the fullowing published datasets from this study:\n",
    "\n",
    "  1. Aligned accelerometer measurements from each audience member: https://osf.io/9qeg6/\n",
    "  2. Participants' survey responses: https://osf.io/89s5w/ \n",
    "  3. Anonimised seating information for in hall participants: https://osf.io/8t4rz/ ./Participants/Near_Participants_Hall.csv (https://osf.io/c5zgf)\n",
    "  4. Concert event timing information:  https://osf.io/8t4rz/ ./Timing/Events_Main.csv"
   ]
  },
  {
   "cell_type": "code",
   "execution_count": 4,
   "metadata": {},
   "outputs": [],
   "source": [
    "general_loc = '../'\n",
    "\n",
    "public_mlmotion = general_loc + 'Public_data/Motion_ML/'\n",
    "public_ax3 = general_loc +  'Public_data/Motion_AX3/'\n",
    "public_Part = general_loc + 'Public_data/Participants/'\n",
    "public_time = general_loc + 'Public_data/Timing/'"
   ]
  },
  {
   "cell_type": "code",
   "execution_count": 5,
   "metadata": {},
   "outputs": [],
   "source": [
    "# datafiles including information not green for open publication\n",
    "internal_Part = general_loc + 'Participants_internal/'"
   ]
  },
  {
   "cell_type": "code",
   "execution_count": 6,
   "metadata": {},
   "outputs": [],
   "source": [
    "# set the sampling period for the concert in UTC \n",
    "Start_time = pd.to_datetime('2021-10-26 17:30:00+0000').replace(tzinfo=None)\n",
    "Synch_time = pd.to_datetime('2021-10-26 17:48:06+0000').replace(tzinfo=None)\n",
    "Mid_time = pd.to_datetime('2021-10-26 19:00:00+0000').replace(tzinfo=None)\n",
    "End_time = pd.to_datetime('2021-10-26 20:30:00+0000').replace(tzinfo=None)\n"
   ]
  },
  {
   "cell_type": "code",
   "execution_count": 98,
   "metadata": {},
   "outputs": [],
   "source": [
    "concert_times = pd.read_csv(public_time +'Events_Main_Segments.csv',sep=\",\") #SV alignment for beeps\n",
    "# concert_times = pd.read_csv(public_time +'Events_Main_extra_Tags.csv',sep=\",\") #SV alignment for beeps\n",
    "concert_times['Datetime']=(pd.to_datetime(concert_times['Datetime'])) # concert time stamps, confirm format\n",
    "\n",
    "concert_times['sequence'] = concert_times.index\n",
    "Main_concert_times = concert_times.set_index('Datetime')"
   ]
  },
  {
   "cell_type": "code",
   "execution_count": 99,
   "metadata": {},
   "outputs": [
    {
     "name": "stdout",
     "output_type": "stream",
     "text": [
      "115\n"
     ]
    },
    {
     "data": {
      "text/html": [
       "<div>\n",
       "<style scoped>\n",
       "    .dataframe tbody tr th:only-of-type {\n",
       "        vertical-align: middle;\n",
       "    }\n",
       "\n",
       "    .dataframe tbody tr th {\n",
       "        vertical-align: top;\n",
       "    }\n",
       "\n",
       "    .dataframe thead th {\n",
       "        text-align: right;\n",
       "    }\n",
       "</style>\n",
       "<table border=\"1\" class=\"dataframe\">\n",
       "  <thead>\n",
       "    <tr style=\"text-align: right;\">\n",
       "      <th></th>\n",
       "      <th>Participant_Code</th>\n",
       "      <th>Attendance</th>\n",
       "      <th>Motion_Quality</th>\n",
       "      <th>Seat_Zone</th>\n",
       "      <th>Watch_Alone</th>\n",
       "    </tr>\n",
       "  </thead>\n",
       "  <tbody>\n",
       "    <tr>\n",
       "      <th>0</th>\n",
       "      <td>ADQ001</td>\n",
       "      <td>A</td>\n",
       "      <td>Q</td>\n",
       "      <td>6.0</td>\n",
       "      <td>0.0</td>\n",
       "    </tr>\n",
       "    <tr>\n",
       "      <th>1</th>\n",
       "      <td>ADQ002</td>\n",
       "      <td>A</td>\n",
       "      <td>Q</td>\n",
       "      <td>3.0</td>\n",
       "      <td>0.0</td>\n",
       "    </tr>\n",
       "    <tr>\n",
       "      <th>2</th>\n",
       "      <td>ADQ003</td>\n",
       "      <td>A</td>\n",
       "      <td>Q</td>\n",
       "      <td>2.0</td>\n",
       "      <td>0.0</td>\n",
       "    </tr>\n",
       "    <tr>\n",
       "      <th>3</th>\n",
       "      <td>ADQ004</td>\n",
       "      <td>A</td>\n",
       "      <td>Q</td>\n",
       "      <td>4.0</td>\n",
       "      <td>1.0</td>\n",
       "    </tr>\n",
       "    <tr>\n",
       "      <th>4</th>\n",
       "      <td>ADQ005</td>\n",
       "      <td>A</td>\n",
       "      <td>Q</td>\n",
       "      <td>4.0</td>\n",
       "      <td>0.0</td>\n",
       "    </tr>\n",
       "  </tbody>\n",
       "</table>\n",
       "</div>"
      ],
      "text/plain": [
       "  Participant_Code Attendance Motion_Quality  Seat_Zone  Watch_Alone\n",
       "0           ADQ001          A              Q        6.0          0.0\n",
       "1           ADQ002          A              Q        3.0          0.0\n",
       "2           ADQ003          A              Q        2.0          0.0\n",
       "3           ADQ004          A              Q        4.0          1.0\n",
       "4           ADQ005          A              Q        4.0          0.0"
      ]
     },
     "execution_count": 99,
     "metadata": {},
     "output_type": "execute_result"
    }
   ],
   "source": [
    "partDets = pd.read_csv(public_Part + 'Audience_Mapping_Public.csv')#,index_col = 0,header_col = 0)\n",
    "part_det_columns = ['Participant_Code','Attendance', 'Motion_Quality', 'Seat_Zone','Watch_Alone']\n",
    "# need only in person participants with aligned motion traces\n",
    "partDets = partDets.loc[partDets['Attendance'].isin(['A','B']),part_det_columns] # A in person hall participants, B remote participants \n",
    "alignedParts = partDets.loc[partDets['Motion_Quality'].isin(['Q','R']),:].reset_index(drop = True) # with aligned motion measurements\n",
    "aligned_Part_Codes = list(alignedParts.Participant_Code.values)\n",
    "print(len(aligned_Part_Codes))\n",
    "alignedParts.iloc[:5,:]"
   ]
  },
  {
   "cell_type": "code",
   "execution_count": 100,
   "metadata": {},
   "outputs": [],
   "source": [
    "# concert times 10 Hz\n",
    "ts_ct = np.arange(-1086,9715, 0.1)*1000 \n",
    "dt_ct = Synch_time + pd.to_timedelta(ts_ct,unit='ms')\n"
   ]
  },
  {
   "cell_type": "code",
   "execution_count": 101,
   "metadata": {
    "scrolled": true
   },
   "outputs": [
    {
     "name": "stdout",
     "output_type": "stream",
     "text": [
      "123.25315022468567\n",
      "123.32779812812805\n"
     ]
    }
   ],
   "source": [
    "tic = time.time()\n",
    "\n",
    "# load those motion traces \n",
    "# gather the aligned recordings for the live performance. Combining AX3 and ML data!\n",
    "aud_df = pd.DataFrame(index = ts_ct)\n",
    "kept_dev = []\n",
    "gap_t = 1000\n",
    "trial_dic = {}\n",
    "bad_gaps = []\n",
    "for i, participant in alignedParts.iterrows(): # .loc[21:21,:]\n",
    "    part = participant['Participant_Code']\n",
    "#     print(part)\n",
    "    if part[2]=='Q': # Motionlab phone acc\n",
    "        inst_d = pd.read_csv(public_mlmotion + part + '_Mobile_Motion.csv' )\n",
    "    else: # AX3\n",
    "        inst_d = pd.read_csv(public_ax3 + part + '_AX3_Motion.csv' )\n",
    "    inst_d['datetime']=(pd.to_datetime(inst_d['datetime'])) # concert time stamps, confirm format\n",
    "    datas = am.gap_nans(inst_d,1000)\n",
    "    #get concert time\n",
    "    resampled = pd.DataFrame(index = ts_ct)\n",
    "    cols = datas.columns\n",
    "    for col in cols[1:]:\n",
    "        f = interpolate.interp1d(datas['time'], datas[col],fill_value='extrapolate')\n",
    "        resampled[col] = f(ts_ct)\n",
    "        \n",
    "    # extract 1D accelerometer feature for easy comparison\n",
    "    # and basic normalisation\n",
    "    b = np.linalg.norm(resampled[['x','y','z']].diff().values,axis=1)\n",
    "    if part[2]=='R': # aligned AX3 correction factor (basic but verified for low motion conditions)\n",
    "#         aud_df.loc[:,part] = b*6 # could go down to 5, based on distributions (high end)\n",
    "        AX3_correction_factor = 5\n",
    "        trial_dic[part] = pd.Series(index=dt_ct,data=b*AX3_correction_factor)\n",
    "    else:\n",
    "#         aud_df.loc[:,part] = b\n",
    "        trial_dic[part] = pd.Series(index=dt_ct,data=b)\n",
    "print(time.time()-tic)   \n",
    "aud_df = pd.concat(trial_dic,axis=1)\n",
    "print(time.time()-tic)\n",
    "aud_df.index = dt_ct"
   ]
  },
  {
   "cell_type": "code",
   "execution_count": 102,
   "metadata": {},
   "outputs": [],
   "source": [
    "ori_aud_df = aud_df.copy()\n",
    "ori_aud_df.index = (ts_ct/1000).round(1)\n",
    "aud_df.index = dt_ct"
   ]
  },
  {
   "cell_type": "code",
   "execution_count": 103,
   "metadata": {},
   "outputs": [
    {
     "data": {
      "text/html": [
       "<div>\n",
       "<style scoped>\n",
       "    .dataframe tbody tr th:only-of-type {\n",
       "        vertical-align: middle;\n",
       "    }\n",
       "\n",
       "    .dataframe tbody tr th {\n",
       "        vertical-align: top;\n",
       "    }\n",
       "\n",
       "    .dataframe thead th {\n",
       "        text-align: right;\n",
       "    }\n",
       "</style>\n",
       "<table border=\"1\" class=\"dataframe\">\n",
       "  <thead>\n",
       "    <tr style=\"text-align: right;\">\n",
       "      <th></th>\n",
       "      <th>ADQ001</th>\n",
       "      <th>ADQ002</th>\n",
       "      <th>ADQ003</th>\n",
       "      <th>ADQ004</th>\n",
       "      <th>ADQ005</th>\n",
       "      <th>ADQ006</th>\n",
       "      <th>ADQ007</th>\n",
       "      <th>ADQ008</th>\n",
       "      <th>ADQ009</th>\n",
       "      <th>ADQ010</th>\n",
       "      <th>...</th>\n",
       "      <th>BEQ113</th>\n",
       "      <th>BEQ114</th>\n",
       "      <th>BEQ115</th>\n",
       "      <th>BEQ116</th>\n",
       "      <th>BEQ117</th>\n",
       "      <th>BEQ118</th>\n",
       "      <th>BEQ119</th>\n",
       "      <th>BnQ131</th>\n",
       "      <th>BnQ132</th>\n",
       "      <th>BnQ133</th>\n",
       "    </tr>\n",
       "  </thead>\n",
       "  <tbody>\n",
       "    <tr>\n",
       "      <th>-1086.0</th>\n",
       "      <td>NaN</td>\n",
       "      <td>NaN</td>\n",
       "      <td>NaN</td>\n",
       "      <td>NaN</td>\n",
       "      <td>NaN</td>\n",
       "      <td>NaN</td>\n",
       "      <td>NaN</td>\n",
       "      <td>NaN</td>\n",
       "      <td>NaN</td>\n",
       "      <td>NaN</td>\n",
       "      <td>...</td>\n",
       "      <td>NaN</td>\n",
       "      <td>NaN</td>\n",
       "      <td>NaN</td>\n",
       "      <td>NaN</td>\n",
       "      <td>NaN</td>\n",
       "      <td>NaN</td>\n",
       "      <td>NaN</td>\n",
       "      <td>NaN</td>\n",
       "      <td>NaN</td>\n",
       "      <td>NaN</td>\n",
       "    </tr>\n",
       "    <tr>\n",
       "      <th>-1085.9</th>\n",
       "      <td>NaN</td>\n",
       "      <td>NaN</td>\n",
       "      <td>NaN</td>\n",
       "      <td>NaN</td>\n",
       "      <td>NaN</td>\n",
       "      <td>NaN</td>\n",
       "      <td>NaN</td>\n",
       "      <td>NaN</td>\n",
       "      <td>NaN</td>\n",
       "      <td>NaN</td>\n",
       "      <td>...</td>\n",
       "      <td>NaN</td>\n",
       "      <td>NaN</td>\n",
       "      <td>NaN</td>\n",
       "      <td>NaN</td>\n",
       "      <td>NaN</td>\n",
       "      <td>NaN</td>\n",
       "      <td>NaN</td>\n",
       "      <td>NaN</td>\n",
       "      <td>NaN</td>\n",
       "      <td>NaN</td>\n",
       "    </tr>\n",
       "    <tr>\n",
       "      <th>-1085.8</th>\n",
       "      <td>0.740777</td>\n",
       "      <td>0.467856</td>\n",
       "      <td>0.212834</td>\n",
       "      <td>0.101379</td>\n",
       "      <td>0.234912</td>\n",
       "      <td>0.224302</td>\n",
       "      <td>0.486310</td>\n",
       "      <td>0.064859</td>\n",
       "      <td>0.247404</td>\n",
       "      <td>0.237059</td>\n",
       "      <td>...</td>\n",
       "      <td>0.032345</td>\n",
       "      <td>NaN</td>\n",
       "      <td>NaN</td>\n",
       "      <td>NaN</td>\n",
       "      <td>NaN</td>\n",
       "      <td>0.227207</td>\n",
       "      <td>NaN</td>\n",
       "      <td>NaN</td>\n",
       "      <td>NaN</td>\n",
       "      <td>NaN</td>\n",
       "    </tr>\n",
       "    <tr>\n",
       "      <th>-1085.7</th>\n",
       "      <td>0.691307</td>\n",
       "      <td>0.179505</td>\n",
       "      <td>0.349901</td>\n",
       "      <td>0.100000</td>\n",
       "      <td>0.249657</td>\n",
       "      <td>0.184666</td>\n",
       "      <td>0.597926</td>\n",
       "      <td>0.055355</td>\n",
       "      <td>0.543207</td>\n",
       "      <td>0.371191</td>\n",
       "      <td>...</td>\n",
       "      <td>0.010653</td>\n",
       "      <td>NaN</td>\n",
       "      <td>NaN</td>\n",
       "      <td>NaN</td>\n",
       "      <td>NaN</td>\n",
       "      <td>0.183257</td>\n",
       "      <td>NaN</td>\n",
       "      <td>NaN</td>\n",
       "      <td>NaN</td>\n",
       "      <td>NaN</td>\n",
       "    </tr>\n",
       "    <tr>\n",
       "      <th>-1085.6</th>\n",
       "      <td>0.711500</td>\n",
       "      <td>0.137325</td>\n",
       "      <td>0.154668</td>\n",
       "      <td>0.063158</td>\n",
       "      <td>0.181522</td>\n",
       "      <td>0.134561</td>\n",
       "      <td>0.456580</td>\n",
       "      <td>0.072090</td>\n",
       "      <td>0.082915</td>\n",
       "      <td>1.156659</td>\n",
       "      <td>...</td>\n",
       "      <td>0.017225</td>\n",
       "      <td>NaN</td>\n",
       "      <td>NaN</td>\n",
       "      <td>NaN</td>\n",
       "      <td>NaN</td>\n",
       "      <td>0.140195</td>\n",
       "      <td>NaN</td>\n",
       "      <td>NaN</td>\n",
       "      <td>NaN</td>\n",
       "      <td>NaN</td>\n",
       "    </tr>\n",
       "  </tbody>\n",
       "</table>\n",
       "<p>5 rows × 115 columns</p>\n",
       "</div>"
      ],
      "text/plain": [
       "           ADQ001    ADQ002    ADQ003    ADQ004    ADQ005    ADQ006    ADQ007  \\\n",
       "-1086.0       NaN       NaN       NaN       NaN       NaN       NaN       NaN   \n",
       "-1085.9       NaN       NaN       NaN       NaN       NaN       NaN       NaN   \n",
       "-1085.8  0.740777  0.467856  0.212834  0.101379  0.234912  0.224302  0.486310   \n",
       "-1085.7  0.691307  0.179505  0.349901  0.100000  0.249657  0.184666  0.597926   \n",
       "-1085.6  0.711500  0.137325  0.154668  0.063158  0.181522  0.134561  0.456580   \n",
       "\n",
       "           ADQ008    ADQ009    ADQ010  ...    BEQ113  BEQ114  BEQ115  BEQ116  \\\n",
       "-1086.0       NaN       NaN       NaN  ...       NaN     NaN     NaN     NaN   \n",
       "-1085.9       NaN       NaN       NaN  ...       NaN     NaN     NaN     NaN   \n",
       "-1085.8  0.064859  0.247404  0.237059  ...  0.032345     NaN     NaN     NaN   \n",
       "-1085.7  0.055355  0.543207  0.371191  ...  0.010653     NaN     NaN     NaN   \n",
       "-1085.6  0.072090  0.082915  1.156659  ...  0.017225     NaN     NaN     NaN   \n",
       "\n",
       "         BEQ117    BEQ118  BEQ119  BnQ131  BnQ132  BnQ133  \n",
       "-1086.0     NaN       NaN     NaN     NaN     NaN     NaN  \n",
       "-1085.9     NaN       NaN     NaN     NaN     NaN     NaN  \n",
       "-1085.8     NaN  0.227207     NaN     NaN     NaN     NaN  \n",
       "-1085.7     NaN  0.183257     NaN     NaN     NaN     NaN  \n",
       "-1085.6     NaN  0.140195     NaN     NaN     NaN     NaN  \n",
       "\n",
       "[5 rows x 115 columns]"
      ]
     },
     "execution_count": 103,
     "metadata": {},
     "output_type": "execute_result"
    }
   ],
   "source": [
    "ori_aud_df.iloc[:5,:]"
   ]
  },
  {
   "cell_type": "markdown",
   "metadata": {},
   "source": [
    "# Participants by location\n",
    "Note: this is the only not published information about the audience used in the Audience motion paper."
   ]
  },
  {
   "cell_type": "code",
   "execution_count": 104,
   "metadata": {},
   "outputs": [],
   "source": [
    "partDets = pd.read_csv(internal_Part + 'Audience_Mapping_Internal.csv')#,index_col = 0,header_col = 0)\n",
    "# need only in person participants so cut to those in attendence with seats assinged\n",
    "partDets = partDets.loc[~partDets['X'].isna(),:]\n",
    "alignedParts = partDets.loc[~partDets['Aligned_DevID'].isna(),:]\n"
   ]
  },
  {
   "cell_type": "code",
   "execution_count": 105,
   "metadata": {},
   "outputs": [],
   "source": [
    "D = pd.DataFrame(index=aud_df.index,columns=aud_df.columns)\n",
    "for c in aud_df.columns:\n",
    "    D.loc[aud_df[c].isna(),c]=1\n",
    "#exclude the interval from coverage percentate\n",
    "coverage = pd.concat([D.loc[:concert_times.loc[23,'Datetime'],:],D.loc[concert_times.loc[24,'Datetime']:,:]],axis=0) \n",
    "\n",
    "partDets.set_index('Participant_Code',inplace=True)\n",
    "partDets['Z'] = coverage.sum()/len(coverage)\n",
    "partDets.reset_index(inplace=True)"
   ]
  },
  {
   "cell_type": "code",
   "execution_count": 106,
   "metadata": {},
   "outputs": [],
   "source": [
    "Near_Rels = pd.read_csv('./data/Audience/Near_Participants_Hall.csv')"
   ]
  },
  {
   "cell_type": "code",
   "execution_count": 107,
   "metadata": {},
   "outputs": [
    {
     "data": {
      "image/png": "[encoded data removed]",
      "text/plain": [
       "<Figure size 432x432 with 2 Axes>"
      ]
     },
     "metadata": {
      "needs_background": "light"
     },
     "output_type": "display_data"
    }
   ],
   "source": [
    "seating = pd.DataFrame()\n",
    "offs = 0\n",
    "seating['Y'] = np.concatenate((np.arange(-6,0,1)-offs,np.arange(1,7,1)+offs))\n",
    "seating['X'] = 1\n",
    "seating['Z'] = 0\n",
    "for rows in range(2,14):\n",
    "    offs=np.mod((1+rows)/2,1)\n",
    "    this_row = pd.DataFrame(columns=['Y','X','Z'])\n",
    "    this_row['Y'] = np.concatenate((np.arange(-6,0,1)-offs,np.arange(1,7,1)+offs))\n",
    "    this_row['X'] = rows\n",
    "    this_row['Z'] = 0\n",
    "    seating=pd.concat([seating,this_row],axis=0).reset_index(drop=True)\n",
    "\n",
    "plt.figure(figsize=[6,6])\n",
    "plt.scatter(x=seating['Y'],y=seating['X'],c='w',edgecolors='grey', s=400, marker=\"h\", alpha=0.6,)\n",
    "sc=plt.scatter(x=partDets['Y'],y=partDets['X'], c=1-partDets['Z'], cmap='Purples',vmin=0,vmax=1, s=400, marker=\"h\", alpha=0.6)\n",
    "plt.xlim([-8,8])\n",
    "plt.ylim([0,14.5])\n",
    "plt.colorbar(sc,label='Ratio motion captured')\n",
    "\n",
    "plt.xticks([])\n",
    "plt.yticks([])\n",
    "plt.xlabel('Stage')\n",
    "plt.title('In Hall participants: location, relations')\n",
    "\n",
    "# now add the relationships Friends\n",
    "Friends = Near_Rels[Near_Rels['Relationship'].str.contains('Friend')]\n",
    "Family = Near_Rels[Near_Rels['Relationship'].str.contains('Family')]\n",
    "\n",
    "ship = Friends.iloc[0,:]\n",
    "P1 = partDets.loc[partDets['Participant_Code'] == ship['Participant_Code_1'],:]\n",
    "P2 = partDets.loc[partDets['Participant_Code'] == ship['Participant_Code_2'],:] \n",
    "plt.plot(np.array([P1['Y'],P2['Y']]),np.array([P1['X']-0.2,P2['X']]),'b',linewidth = 1)\n",
    "ship = Family.iloc[0,:]\n",
    "P1 = partDets.loc[partDets['Participant_Code'] == ship['Participant_Code_1'],:]\n",
    "P2 = partDets.loc[partDets['Participant_Code'] == ship['Participant_Code_2'],:]\n",
    "plt.plot(np.array([P1['Y'],P2['Y']]),np.array([P1['X']-0.2,P2['X']]),'r',linewidth = 1,linestyle=':')    \n",
    "    \n",
    "for i,ship in Friends.iterrows():\n",
    "    P1 = partDets.loc[partDets['Participant_Code'] == ship['Participant_Code_1'],:]\n",
    "    P2 = partDets.loc[partDets['Participant_Code'] == ship['Participant_Code_2'],:] \n",
    "    plt.plot(np.array([P1['Y'],P2['Y']]),np.array([P1['X']-0.2,P2['X']]),'b',linewidth = 1)\n",
    "\n",
    "\n",
    "for i,ship in Family.iterrows():\n",
    "    P1 = partDets.loc[partDets['Participant_Code'] == ship['Participant_Code_1'],:]\n",
    "    P2 = partDets.loc[partDets['Participant_Code'] == ship['Participant_Code_2'],:]\n",
    "    plt.plot(np.array([P1['Y'],P2['Y']]),np.array([P1['X']-0.2,P2['X']]),'r',linewidth = 1,linestyle='--')\n",
    "\n",
    "plt.legend(['Seats','Participants','Friends','Family'],ncols=2,loc='upper center')\n",
    "plt.ylabel('Seating Rows')\n",
    "# show the graph\n",
    "plt.savefig('./plots/Inhall_Audience_Locations.png',dpi = 196)\n",
    "plt.show()"
   ]
  },
  {
   "cell_type": "code",
   "execution_count": 108,
   "metadata": {},
   "outputs": [
    {
     "data": {
      "image/png": "[encoded data removed]",
      "text/plain": [
       "<Figure size 360x252 with 1 Axes>"
      ]
     },
     "metadata": {},
     "output_type": "display_data"
    }
   ],
   "source": [
    "plt.figure(figsize=[5,3.5])\n",
    "\n",
    "# in front influence\n",
    "sc=plt.scatter(x=[3.5],y=[7],c ='b', s=400, marker=\"h\", alpha=0.6)\n",
    "sc=plt.scatter(x=[1.5,5.5],y=[7,7],c ='y', s=400, marker=\"h\", alpha=0.6)\n",
    "sc=plt.scatter(x=[2.5,4.5],y=[7,7],c ='grey', s=400, marker=\"h\", alpha=0.6)\n",
    "\n",
    "plt.arrow(3.5,7,-1.6,0,color='r',head_width=0.2)\n",
    "\n",
    "plt.legend(['Influenced neighbour','Influencing neighbour','Intermediate seat','Direction of influence'],\n",
    "          loc='upper left')\n",
    "sc=plt.scatter(x=[3.0,4.0],y=[6,6],c ='grey', s=400, marker=\"h\", alpha=0.6)\n",
    "\n",
    "plt.arrow(1.75,7,1.4,0,color='r',head_width=0.2)\n",
    "\n",
    "plt.arrow(5.5,7,-1.6,0,color='r',head_width=0.2)\n",
    "plt.arrow(3.75,7,1.4,0,color='r',head_width=0.2)\n",
    "\n",
    "sc=plt.scatter(x=[2.0,5.0],y=[6,6],c ='y', s=400, marker=\"h\", alpha=0.6)\n",
    "sc=plt.scatter(x=[3.5],y=[5],c ='y', s=400, marker=\"h\", alpha=0.6)\n",
    "plt.arrow(2.0,6,1.2,0.7,color='r',head_width=0.2)\n",
    "plt.arrow(5.0,6,-1.2,0.7,color='r',head_width=0.2)\n",
    "plt.arrow(3.5,5,0,1.6,color='r',head_width=0.2)\n",
    "\n",
    "plt.annotate('Near',[3,7.5],)\n",
    "\n",
    "# adjancents influence\n",
    "sc=plt.scatter(x=[2.5],y=[2],c ='b', s=400, marker=\"h\", alpha=0.6)\n",
    "sc=plt.scatter(x=[1.5,3.5],y=[2,2],c ='y', s=400, marker=\"h\", alpha=0.6)\n",
    "plt.arrow(2.5,2,-0.6,0,color='r',head_width=0.2)\n",
    "plt.arrow(1.75,2,0.4,0,color='r',head_width=0.2)\n",
    "plt.arrow(3.5,2,-0.6,0,color='r',head_width=0.2)\n",
    "plt.arrow(2.75,2,0.4,0,color='r',head_width=0.2)\n",
    "plt.annotate('Adjacent',[1.25,2.5],)\n",
    "\n",
    "# in front influence\n",
    "sc=plt.scatter(x=[-2.5],y=[4],c ='b', s=400, marker=\"h\", alpha=0.6)\n",
    "sc=plt.scatter(x=[-2.0,-3.0],y=[3,3],c ='y', s=400, marker=\"h\", alpha=0.6)\n",
    "plt.arrow(-2.0,3,-0.3,0.7,color='r',head_width=0.2)\n",
    "plt.arrow(-3.0,3,0.3,0.7,color='r',head_width=0.2)\n",
    "plt.annotate('In Front',[-3.5,4.5],)\n",
    "\n",
    "plt.annotate('* demonstration only',[-7,1.2],)\n",
    "plt.xlim([-8,8])\n",
    "plt.ylim([1,8])\n",
    "# plt.colorbar(sc,label='% motion captured')\n",
    "\n",
    "plt.xticks([])\n",
    "plt.yticks([])\n",
    "plt.xlabel('Stage')\n",
    "plt.title('Audience distance categories')\n",
    "plt.ylabel('Rows')\n",
    "plt.savefig('./plots/Spatial_relationships.png',dpi = 196)\n",
    "plt.show()"
   ]
  },
  {
   "cell_type": "markdown",
   "metadata": {},
   "source": [
    "# Participant Stats"
   ]
  },
  {
   "cell_type": "code",
   "execution_count": 109,
   "metadata": {
    "scrolled": true
   },
   "outputs": [
    {
     "data": {
      "text/html": [
       "<div>\n",
       "<style scoped>\n",
       "    .dataframe tbody tr th:only-of-type {\n",
       "        vertical-align: middle;\n",
       "    }\n",
       "\n",
       "    .dataframe tbody tr th {\n",
       "        vertical-align: top;\n",
       "    }\n",
       "\n",
       "    .dataframe thead th {\n",
       "        text-align: right;\n",
       "    }\n",
       "</style>\n",
       "<table border=\"1\" class=\"dataframe\">\n",
       "  <thead>\n",
       "    <tr style=\"text-align: right;\">\n",
       "      <th></th>\n",
       "      <th>ParticipantCode</th>\n",
       "      <th>age</th>\n",
       "      <th>gender</th>\n",
       "      <th>musician_status</th>\n",
       "      <th>personal_relation</th>\n",
       "      <th>fan</th>\n",
       "      <th>EC_1</th>\n",
       "      <th>EC_2</th>\n",
       "      <th>EC_3</th>\n",
       "      <th>EC_4</th>\n",
       "      <th>...</th>\n",
       "      <th>changed_behaviour</th>\n",
       "      <th>EC</th>\n",
       "      <th>EC_noTouched</th>\n",
       "      <th>AIMS</th>\n",
       "      <th>KM_Beethoven</th>\n",
       "      <th>KM_Schnittke</th>\n",
       "      <th>KM_Folk</th>\n",
       "      <th>AWE_Beethoven</th>\n",
       "      <th>AWE_Schnittke</th>\n",
       "      <th>AWE_Folk</th>\n",
       "    </tr>\n",
       "    <tr>\n",
       "      <th>ParticipantCode</th>\n",
       "      <th></th>\n",
       "      <th></th>\n",
       "      <th></th>\n",
       "      <th></th>\n",
       "      <th></th>\n",
       "      <th></th>\n",
       "      <th></th>\n",
       "      <th></th>\n",
       "      <th></th>\n",
       "      <th></th>\n",
       "      <th></th>\n",
       "      <th></th>\n",
       "      <th></th>\n",
       "      <th></th>\n",
       "      <th></th>\n",
       "      <th></th>\n",
       "      <th></th>\n",
       "      <th></th>\n",
       "      <th></th>\n",
       "      <th></th>\n",
       "      <th></th>\n",
       "    </tr>\n",
       "  </thead>\n",
       "  <tbody>\n",
       "    <tr>\n",
       "      <th>ADQ001</th>\n",
       "      <td>ADQ001</td>\n",
       "      <td>60.0</td>\n",
       "      <td>Woman</td>\n",
       "      <td>Music-loving nonmusician</td>\n",
       "      <td>No_Relation</td>\n",
       "      <td>7.0</td>\n",
       "      <td>4.0</td>\n",
       "      <td>3.0</td>\n",
       "      <td>3.0</td>\n",
       "      <td>2.0</td>\n",
       "      <td>...</td>\n",
       "      <td>NaN</td>\n",
       "      <td>3.714286</td>\n",
       "      <td>3.666667</td>\n",
       "      <td>144</td>\n",
       "      <td>3.6</td>\n",
       "      <td>3.5</td>\n",
       "      <td>4.3</td>\n",
       "      <td>3.833333</td>\n",
       "      <td>4.166667</td>\n",
       "      <td>3.833333</td>\n",
       "    </tr>\n",
       "    <tr>\n",
       "      <th>ADQ002</th>\n",
       "      <td>ADQ002</td>\n",
       "      <td>84.0</td>\n",
       "      <td>Man</td>\n",
       "      <td>Music-loving nonmusician</td>\n",
       "      <td>No_Relation</td>\n",
       "      <td>7.0</td>\n",
       "      <td>1.0</td>\n",
       "      <td>5.0</td>\n",
       "      <td>1.0</td>\n",
       "      <td>5.0</td>\n",
       "      <td>...</td>\n",
       "      <td>NaN</td>\n",
       "      <td>1.000000</td>\n",
       "      <td>1.000000</td>\n",
       "      <td>108</td>\n",
       "      <td>3.7</td>\n",
       "      <td>3.6</td>\n",
       "      <td>3.0</td>\n",
       "      <td>4.833333</td>\n",
       "      <td>4.833333</td>\n",
       "      <td>4.166667</td>\n",
       "    </tr>\n",
       "    <tr>\n",
       "      <th>ADQ003</th>\n",
       "      <td>ADQ003</td>\n",
       "      <td>46.0</td>\n",
       "      <td>Man</td>\n",
       "      <td>Music-loving nonmusician</td>\n",
       "      <td>No_Relation</td>\n",
       "      <td>7.0</td>\n",
       "      <td>5.0</td>\n",
       "      <td>1.0</td>\n",
       "      <td>4.0</td>\n",
       "      <td>1.0</td>\n",
       "      <td>...</td>\n",
       "      <td>NaN</td>\n",
       "      <td>4.428571</td>\n",
       "      <td>4.333333</td>\n",
       "      <td>127</td>\n",
       "      <td>1.4</td>\n",
       "      <td>1.3</td>\n",
       "      <td>2.9</td>\n",
       "      <td>1.000000</td>\n",
       "      <td>2.833333</td>\n",
       "      <td>1.833333</td>\n",
       "    </tr>\n",
       "    <tr>\n",
       "      <th>ADQ004</th>\n",
       "      <td>ADQ004</td>\n",
       "      <td>57.0</td>\n",
       "      <td>Man</td>\n",
       "      <td>Music-loving nonmusician</td>\n",
       "      <td>No_Relation</td>\n",
       "      <td>7.0</td>\n",
       "      <td>2.0</td>\n",
       "      <td>3.0</td>\n",
       "      <td>4.0</td>\n",
       "      <td>2.0</td>\n",
       "      <td>...</td>\n",
       "      <td>NaN</td>\n",
       "      <td>3.714286</td>\n",
       "      <td>3.500000</td>\n",
       "      <td>154</td>\n",
       "      <td>1.9</td>\n",
       "      <td>1.1</td>\n",
       "      <td>3.1</td>\n",
       "      <td>3.500000</td>\n",
       "      <td>4.333333</td>\n",
       "      <td>3.666667</td>\n",
       "    </tr>\n",
       "    <tr>\n",
       "      <th>ADQ005</th>\n",
       "      <td>ADQ005</td>\n",
       "      <td>47.0</td>\n",
       "      <td>Man</td>\n",
       "      <td>Serious amateur musician</td>\n",
       "      <td>Relative_Friend</td>\n",
       "      <td>7.0</td>\n",
       "      <td>2.0</td>\n",
       "      <td>3.0</td>\n",
       "      <td>3.0</td>\n",
       "      <td>4.0</td>\n",
       "      <td>...</td>\n",
       "      <td>NaN</td>\n",
       "      <td>2.428571</td>\n",
       "      <td>2.500000</td>\n",
       "      <td>117</td>\n",
       "      <td>1.2</td>\n",
       "      <td>2.8</td>\n",
       "      <td>3.6</td>\n",
       "      <td>3.000000</td>\n",
       "      <td>2.666667</td>\n",
       "      <td>3.500000</td>\n",
       "    </tr>\n",
       "  </tbody>\n",
       "</table>\n",
       "<p>5 rows × 219 columns</p>\n",
       "</div>"
      ],
      "text/plain": [
       "                ParticipantCode   age gender           musician_status  \\\n",
       "ParticipantCode                                                          \n",
       "ADQ001                   ADQ001  60.0  Woman  Music-loving nonmusician   \n",
       "ADQ002                   ADQ002  84.0    Man  Music-loving nonmusician   \n",
       "ADQ003                   ADQ003  46.0    Man  Music-loving nonmusician   \n",
       "ADQ004                   ADQ004  57.0    Man  Music-loving nonmusician   \n",
       "ADQ005                   ADQ005  47.0    Man  Serious amateur musician   \n",
       "\n",
       "                personal_relation  fan  EC_1  EC_2  EC_3  EC_4  ...  \\\n",
       "ParticipantCode                                                 ...   \n",
       "ADQ001                No_Relation  7.0   4.0   3.0   3.0   2.0  ...   \n",
       "ADQ002                No_Relation  7.0   1.0   5.0   1.0   5.0  ...   \n",
       "ADQ003                No_Relation  7.0   5.0   1.0   4.0   1.0  ...   \n",
       "ADQ004                No_Relation  7.0   2.0   3.0   4.0   2.0  ...   \n",
       "ADQ005            Relative_Friend  7.0   2.0   3.0   3.0   4.0  ...   \n",
       "\n",
       "                 changed_behaviour        EC  EC_noTouched  AIMS  \\\n",
       "ParticipantCode                                                    \n",
       "ADQ001                         NaN  3.714286      3.666667   144   \n",
       "ADQ002                         NaN  1.000000      1.000000   108   \n",
       "ADQ003                         NaN  4.428571      4.333333   127   \n",
       "ADQ004                         NaN  3.714286      3.500000   154   \n",
       "ADQ005                         NaN  2.428571      2.500000   117   \n",
       "\n",
       "                 KM_Beethoven  KM_Schnittke  KM_Folk  AWE_Beethoven  \\\n",
       "ParticipantCode                                                       \n",
       "ADQ001                    3.6           3.5      4.3       3.833333   \n",
       "ADQ002                    3.7           3.6      3.0       4.833333   \n",
       "ADQ003                    1.4           1.3      2.9       1.000000   \n",
       "ADQ004                    1.9           1.1      3.1       3.500000   \n",
       "ADQ005                    1.2           2.8      3.6       3.000000   \n",
       "\n",
       "                 AWE_Schnittke  AWE_Folk  \n",
       "ParticipantCode                           \n",
       "ADQ001                4.166667  3.833333  \n",
       "ADQ002                4.833333  4.166667  \n",
       "ADQ003                2.833333  1.833333  \n",
       "ADQ004                4.333333  3.666667  \n",
       "ADQ005                2.666667  3.500000  \n",
       "\n",
       "[5 rows x 219 columns]"
      ]
     },
     "execution_count": 109,
     "metadata": {},
     "output_type": "execute_result"
    }
   ],
   "source": [
    "# pull audience questionnair responses\n",
    "Quest_text = pd.read_csv(public_Part + 'Surveys_Codebook.csv', delimiter=\",\", encoding='latin-1')\n",
    "Quest_df = pd.read_csv(public_Part + 'Surveys_Prepared_Data_Public.csv',sep=',', encoding='latin-1')\n",
    "Quest_df.set_index(Quest_df['ParticipantCode'],inplace = True,drop = True)\n",
    "# only want the responses of people with aligned motion measurements\n",
    "Quest_df = Quest_df.loc[aligned_Part_Codes,:].copy()#.reset_index(drop = True)\n",
    "HQ_df = Quest_df.loc[Quest_df['ParticipantCode'].str.startswith('A'),:].copy()\n",
    "RQ_df = Quest_df.loc[Quest_df['ParticipantCode'].str.startswith('B'),:].copy()\n",
    "Quest_df.iloc[:5,:]"
   ]
  },
  {
   "cell_type": "code",
   "execution_count": 110,
   "metadata": {},
   "outputs": [
    {
     "data": {
      "text/plain": [
       "[85, 30]"
      ]
     },
     "execution_count": 110,
     "metadata": {},
     "output_type": "execute_result"
    }
   ],
   "source": [
    "[len(HQ_df),len(RQ_df)]"
   ]
  },
  {
   "cell_type": "code",
   "execution_count": 111,
   "metadata": {},
   "outputs": [
    {
     "data": {
      "text/plain": [
       "ID                                         age\n",
       "English_Q                    What is your age?\n",
       "Danish_Q                    Hvad er din alder?\n",
       "Response_Type                          integer\n",
       "Data_Type                              integer\n",
       "Response_Options_English    free text response\n",
       "Response_Options_Danish                    NaN\n",
       "Survey_Timing                      Pre-concert\n",
       "Survey_Timing_Code                         1.0\n",
       "Repeated_Question_Code                     NaN\n",
       "Note                                       NaN\n",
       "Reference                                  NaN\n",
       "Name: 1, dtype: object"
      ]
     },
     "execution_count": 111,
     "metadata": {},
     "output_type": "execute_result"
    }
   ],
   "source": [
    "q = 1\n",
    "Quest_text.loc[q,:]"
   ]
  },
  {
   "cell_type": "code",
   "execution_count": 112,
   "metadata": {},
   "outputs": [
    {
     "data": {
      "image/png": "[encoded data removed]",
      "text/plain": [
       "<Figure size 432x288 with 2 Axes>"
      ]
     },
     "metadata": {
      "needs_background": "light"
     },
     "output_type": "display_data"
    }
   ],
   "source": [
    "fig,(axes) = plt.subplots(2,1,sharex=True)\n",
    "HQ_df[Quest_text.loc[q,'ID']].hist(ax=axes[0])\n",
    "axes[0].set_xlabel(Quest_text.loc[q,'ID'])\n",
    "axes[0].set_ylabel('# in hall')\n",
    "RQ_df[Quest_text.loc[q,'ID']].hist(ax=axes[1])\n",
    "axes[1].set_xlabel(Quest_text.loc[q,'ID'])\n",
    "axes[1].set_ylabel('# remote')\n",
    "plt.show()"
   ]
  },
  {
   "cell_type": "code",
   "execution_count": 113,
   "metadata": {},
   "outputs": [
    {
     "data": {
      "text/plain": [
       "ID                                                          personal_relation\n",
       "English_Q                   What is your personal relationship to the Dani...\n",
       "Danish_Q                    Hvad er din personlige relation til medlemmern...\n",
       "Response_Type                                                 multiple choice\n",
       "Data_Type                                                              string\n",
       "Response_Options_English    \"I am a relative/friend, I dont have any part...\n",
       "Response_Options_Danish     \"Jeg er en ven/familie, Jeg har ikke nogen bes...\n",
       "Survey_Timing                                                     Pre-concert\n",
       "Survey_Timing_Code                                                        1.0\n",
       "Repeated_Question_Code                                                    NaN\n",
       "Note                                                                      NaN\n",
       "Reference                                                                 NaN\n",
       "Name: 4, dtype: object"
      ]
     },
     "execution_count": 113,
     "metadata": {},
     "output_type": "execute_result"
    }
   ],
   "source": [
    "q = 4\n",
    "Quest_text.loc[q,:]"
   ]
  },
  {
   "cell_type": "code",
   "execution_count": 114,
   "metadata": {},
   "outputs": [
    {
     "data": {
      "image/png": "[encoded data removed]",
      "text/plain": [
       "<Figure size 432x216 with 1 Axes>"
      ]
     },
     "metadata": {
      "needs_background": "light"
     },
     "output_type": "display_data"
    },
    {
     "data": {
      "text/html": [
       "<div>\n",
       "<style scoped>\n",
       "    .dataframe tbody tr th:only-of-type {\n",
       "        vertical-align: middle;\n",
       "    }\n",
       "\n",
       "    .dataframe tbody tr th {\n",
       "        vertical-align: top;\n",
       "    }\n",
       "\n",
       "    .dataframe thead th {\n",
       "        text-align: right;\n",
       "    }\n",
       "</style>\n",
       "<table border=\"1\" class=\"dataframe\">\n",
       "  <thead>\n",
       "    <tr style=\"text-align: right;\">\n",
       "      <th></th>\n",
       "      <th>Hall</th>\n",
       "      <th>Remote</th>\n",
       "    </tr>\n",
       "    <tr>\n",
       "      <th>personal_relation</th>\n",
       "      <th></th>\n",
       "      <th></th>\n",
       "    </tr>\n",
       "  </thead>\n",
       "  <tbody>\n",
       "    <tr>\n",
       "      <th>No_Relation</th>\n",
       "      <td>0.811765</td>\n",
       "      <td>0.869565</td>\n",
       "    </tr>\n",
       "    <tr>\n",
       "      <th>Relative_Friend</th>\n",
       "      <td>0.188235</td>\n",
       "      <td>0.130435</td>\n",
       "    </tr>\n",
       "  </tbody>\n",
       "</table>\n",
       "</div>"
      ],
      "text/plain": [
       "                       Hall    Remote\n",
       "personal_relation                    \n",
       "No_Relation        0.811765  0.869565\n",
       "Relative_Friend    0.188235  0.130435"
      ]
     },
     "execution_count": 114,
     "metadata": {},
     "output_type": "execute_result"
    }
   ],
   "source": [
    "R_df = pd.DataFrame()\n",
    "R_df['Hall'] = HQ_df[Quest_text.loc[q,'ID']].value_counts()\n",
    "R_df['Remote'] = RQ_df[Quest_text.loc[q,'ID']].value_counts()\n",
    "\n",
    "R_df.plot.bar(figsize=(6, 3))\n",
    "# plt.xlabel(Quest_text.loc[q,'Response_Options_English'])\n",
    "plt.title(Quest_text.loc[q,'English_Q'])\n",
    "plt.show()\n",
    "R_df['Hall'] = R_df['Hall']/R_df['Hall'].sum()\n",
    "R_df['Remote'] = R_df['Remote']/R_df['Remote'].sum()\n",
    "R_df"
   ]
  },
  {
   "cell_type": "code",
   "execution_count": 115,
   "metadata": {},
   "outputs": [
    {
     "data": {
      "text/plain": [
       "ID                                                            musician_status\n",
       "English_Q                                     Which title best describes you?\n",
       "Danish_Q                            Hvilken beskrivelse passer bedst til dig?\n",
       "Response_Type                                                 multiple choice\n",
       "Data_Type                                                              string\n",
       "Response_Options_English    \"Tone-deaf, Nonmusician, Music-loving nonmusic...\n",
       "Response_Options_Danish     \"Tonedøv, Ikke-musiker, Musikelskende ikke-mus...\n",
       "Survey_Timing                                                     Pre-concert\n",
       "Survey_Timing_Code                                                        1.0\n",
       "Repeated_Question_Code                                                    NaN\n",
       "Note                        \"A single item measure for identifying musicia...\n",
       "Reference                                              Zhang & Schubert, 2019\n",
       "Name: 3, dtype: object"
      ]
     },
     "execution_count": 115,
     "metadata": {},
     "output_type": "execute_result"
    }
   ],
   "source": [
    "q = 3\n",
    "Quest_text.loc[q,:]"
   ]
  },
  {
   "cell_type": "code",
   "execution_count": 116,
   "metadata": {},
   "outputs": [
    {
     "data": {
      "image/png": "[encoded data removed]",
      "text/plain": [
       "<Figure size 432x288 with 1 Axes>"
      ]
     },
     "metadata": {
      "needs_background": "light"
     },
     "output_type": "display_data"
    },
    {
     "data": {
      "text/html": [
       "<div>\n",
       "<style scoped>\n",
       "    .dataframe tbody tr th:only-of-type {\n",
       "        vertical-align: middle;\n",
       "    }\n",
       "\n",
       "    .dataframe tbody tr th {\n",
       "        vertical-align: top;\n",
       "    }\n",
       "\n",
       "    .dataframe thead th {\n",
       "        text-align: right;\n",
       "    }\n",
       "</style>\n",
       "<table border=\"1\" class=\"dataframe\">\n",
       "  <thead>\n",
       "    <tr style=\"text-align: right;\">\n",
       "      <th></th>\n",
       "      <th>Hall</th>\n",
       "      <th>Remote</th>\n",
       "    </tr>\n",
       "  </thead>\n",
       "  <tbody>\n",
       "    <tr>\n",
       "      <th>Professional musician</th>\n",
       "      <td>0.082353</td>\n",
       "      <td>0.304348</td>\n",
       "    </tr>\n",
       "    <tr>\n",
       "      <th>Semiprofessional musician</th>\n",
       "      <td>0.117647</td>\n",
       "      <td>0.391304</td>\n",
       "    </tr>\n",
       "    <tr>\n",
       "      <th>Serious amateur musician</th>\n",
       "      <td>0.211765</td>\n",
       "      <td>0.652174</td>\n",
       "    </tr>\n",
       "    <tr>\n",
       "      <th>Amateur musician</th>\n",
       "      <td>0.352941</td>\n",
       "      <td>0.826087</td>\n",
       "    </tr>\n",
       "    <tr>\n",
       "      <th>Music-loving nonmusician</th>\n",
       "      <td>0.905882</td>\n",
       "      <td>1.000000</td>\n",
       "    </tr>\n",
       "    <tr>\n",
       "      <th>Nonmusician</th>\n",
       "      <td>1.000000</td>\n",
       "      <td>NaN</td>\n",
       "    </tr>\n",
       "  </tbody>\n",
       "</table>\n",
       "</div>"
      ],
      "text/plain": [
       "                               Hall    Remote\n",
       "Professional musician      0.082353  0.304348\n",
       "Semiprofessional musician  0.117647  0.391304\n",
       "Serious amateur musician   0.211765  0.652174\n",
       "Amateur musician           0.352941  0.826087\n",
       "Music-loving nonmusician   0.905882  1.000000\n",
       "Nonmusician                1.000000       NaN"
      ]
     },
     "execution_count": 116,
     "metadata": {},
     "output_type": "execute_result"
    }
   ],
   "source": [
    "R_df = pd.DataFrame(index = ['Nonmusician','Music-loving nonmusician', 'Amateur musician', \n",
    "       'Serious amateur musician', 'Semiprofessional musician', 'Professional musician'])\n",
    "R_df['Hall'] = HQ_df[Quest_text.loc[q,'ID']].value_counts()\n",
    "R_df['Remote'] = RQ_df[Quest_text.loc[q,'ID']].value_counts()\n",
    "\n",
    "R_df.plot.bar()\n",
    "# plt.xlabel(Quest_text.loc[q,'Response_Options_English'])\n",
    "plt.title(Quest_text.loc[q,'English_Q'])\n",
    "plt.show()\n",
    "R_df['Hall'] = R_df['Hall']/R_df['Hall'].sum()\n",
    "R_df['Remote'] = R_df['Remote']/R_df['Remote'].sum()\n",
    "R_df.iloc[::-1].cumsum()"
   ]
  },
  {
   "cell_type": "code",
   "execution_count": 117,
   "metadata": {},
   "outputs": [
    {
     "data": {
      "image/png": "[encoded data removed]",
      "text/plain": [
       "<Figure size 432x288 with 1 Axes>"
      ]
     },
     "metadata": {
      "needs_background": "light"
     },
     "output_type": "display_data"
    }
   ],
   "source": [
    "# Quest_df.iloc[:,[39,79,100,131]].hist(alpha = 0.55) \n",
    "R_df = pd.DataFrame(index = range(0,7),columns = ['Folk','Bach','Schnit.','Beeth.'])\n",
    "R_df['Beeth.'] = HQ_df.iloc[:,39].value_counts()\n",
    "R_df['Schnit.'] =  HQ_df.iloc[:,79].value_counts()\n",
    "R_df['Bach'] =  HQ_df.iloc[:,100].value_counts()\n",
    "R_df['Folk'] =  HQ_df.iloc[:,131].value_counts()\n",
    "R_df.transpose().plot.barh(stacked=True,colormap='copper')\n",
    "plt.ylabel('Familiarity with pieces')\n",
    "plt.xlabel('# in Hall')\n",
    "plt.title(Quest_text.loc[39,'Response_Options_English'])\n",
    "plt.show()"
   ]
  },
  {
   "cell_type": "code",
   "execution_count": 118,
   "metadata": {},
   "outputs": [
    {
     "data": {
      "image/png": "[encoded data removed]",
      "text/plain": [
       "<Figure size 432x288 with 1 Axes>"
      ]
     },
     "metadata": {
      "needs_background": "light"
     },
     "output_type": "display_data"
    }
   ],
   "source": [
    "Quest_df.iloc[:,[39,79,100,131]].max(axis=1).hist(bins=7,alpha = 0.55,label='Max') \n",
    "Quest_df.iloc[:,[39,79,100,131]].median(axis=1).hist(bins=7,alpha = 0.55,label='Median')\n",
    "Quest_df.iloc[:,[39,79,100,131]].min(axis=1).hist(bins=7,alpha = 0.55,label='Min')\n",
    "plt.legend()   \n",
    "plt.show()"
   ]
  },
  {
   "cell_type": "code",
   "execution_count": null,
   "metadata": {},
   "outputs": [],
   "source": []
  }
 ],
 "metadata": {
  "kernelspec": {
   "display_name": "Python 3",
   "language": "python",
   "name": "python3"
  },
  "language_info": {
   "codemirror_mode": {
    "name": "ipython",
    "version": 3
   },
   "file_extension": ".py",
   "mimetype": "text/x-python",
   "name": "python",
   "nbconvert_exporter": "python",
   "pygments_lexer": "ipython3",
   "version": "3.9.0"
  }
 },
 "nbformat": 4,
 "nbformat_minor": 4
}
